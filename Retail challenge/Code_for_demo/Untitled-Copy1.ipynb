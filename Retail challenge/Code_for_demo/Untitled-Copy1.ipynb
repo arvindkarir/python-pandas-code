{
 "cells": [
  {
   "cell_type": "code",
   "execution_count": null,
   "metadata": {
    "collapsed": true
   },
   "outputs": [],
   "source": []
  },
  {
   "cell_type": "code",
   "execution_count": null,
   "metadata": {
    "collapsed": true
   },
   "outputs": [],
   "source": [
    "def most_frequent_colour(image):\n",
    "    w, h = image.size\n",
    "    pixels = image.getcolors(w * h)\n",
    "    most_frequent_pixel = pixels[0]\n",
    "    for count, colour in pixels:\n",
    "        if count > most_frequent_pixel[0]:\n",
    "            most_frequent_pixel = (count, colour)\n",
    "    compare(\"Most Common\", image, most_frequent_pixel[1])\n",
    "    return most_frequent_pixel"
   ]
  },
  {
   "cell_type": "code",
   "execution_count": null,
   "metadata": {
    "collapsed": true
   },
   "outputs": [],
   "source": []
  },
  {
   "cell_type": "code",
   "execution_count": null,
   "metadata": {
    "collapsed": true
   },
   "outputs": [],
   "source": []
  }
 ],
 "metadata": {
  "kernelspec": {
   "display_name": "Python 3",
   "language": "python",
   "name": "python3"
  },
  "language_info": {
   "codemirror_mode": {
    "name": "ipython",
    "version": 3
   },
   "file_extension": ".py",
   "mimetype": "text/x-python",
   "name": "python",
   "nbconvert_exporter": "python",
   "pygments_lexer": "ipython3",
   "version": "3.6.3"
  }
 },
 "nbformat": 4,
 "nbformat_minor": 2
}

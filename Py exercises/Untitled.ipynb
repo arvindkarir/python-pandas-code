{
 "cells": [
  {
   "cell_type": "code",
   "execution_count": 1,
   "metadata": {},
   "outputs": [
    {
     "name": "stdout",
     "output_type": "stream",
     "text": [
      "gello\n"
     ]
    }
   ],
   "source": [
    "print('gello')"
   ]
  },
  {
   "cell_type": "code",
   "execution_count": 8,
   "metadata": {},
   "outputs": [
    {
     "name": "stdout",
     "output_type": "stream",
     "text": [
      " Volume in drive C has no label.\n",
      " Volume Serial Number is EA4F-C603\n",
      "\n",
      " Directory of C:\\Users\\User\\Desktop\\MIT EdX programming course\\Py exercises\n",
      "\n",
      "16/02/2018  09:34 PM    <DIR>          .\n",
      "16/02/2018  09:34 PM    <DIR>          ..\n",
      "16/02/2018  09:32 PM    <DIR>          .ipynb_checkpoints\n",
      "24/11/2017  12:25 PM    <DIR>          .spyproject\n",
      "05/02/2018  02:17 PM               354 03_04_alternate.py\n",
      "17/01/2018  05:34 PM             2,846 09_01_Rev0.2.py\n",
      "29/10/2017  08:38 PM               499 AddNumbersInAList.py\n",
      "01/11/2017  05:50 PM                 6 ages\n",
      "06/12/2017  03:11 PM             3,214 AStarAlgorithm.py\n",
      "16/11/2017  07:10 PM             1,105 BirthdatesFun.py\n",
      "21/11/2017  09:18 AM               653 BirthRateProbability.py\n",
      "13/11/2017  11:29 PM               810 BisectionWithoutRecursion.py\n",
      "03/11/2017  01:38 PM               776 CheckForIntegersUsingTryExcept_method.py\n",
      "06/11/2017  01:25 PM               757 ClassIntegers.py\n",
      "16/11/2017  07:50 PM             2,317 ClassRecordsNew.py\n",
      "15/11/2017  11:12 AM             1,154 CoinFlipPlots.py\n",
      "15/02/2018  11:02 AM             8,192 company.db\n",
      "23/11/2017  06:48 PM             2,339 CompareAnimalsTable_ML.py\n",
      "31/10/2017  02:28 PM             1,040 CSVimportOneSyllableFiboPoem.py\n",
      "29/11/2017  05:39 PM    <DIR>          data_dump\n",
      "22/11/2017  04:41 PM             2,370 DecisionTreeKnapsackProblem.py\n",
      "15/01/2018  10:14 PM               504 del.py\n",
      "16/01/2018  05:20 PM               789 del1.py\n",
      "19/01/2018  02:04 PM             1,147 del2.py\n",
      "15/01/2018  11:35 PM               405 del3.py\n",
      "30/01/2018  03:36 PM               576 del4.py\n",
      "25/01/2018  09:43 PM               994 deldel.py\n",
      "25/01/2018  01:05 PM               823 deldeldel.py\n",
      "16/02/2018  04:03 PM               159 delete.py\n",
      "21/11/2017  01:40 PM             3,056 delete1.py\n",
      "09/02/2018  07:24 PM             1,978 delete2.py\n",
      "12/02/2018  01:32 PM             1,035 deleteit.py\n",
      "01/11/2017  06:03 PM               224 delete_2.py\n",
      "23/11/2017  05:46 PM               298 delete_run.py\n",
      "30/10/2017  01:29 PM               598 DuplicateWordsInStrings.py\n",
      "30/10/2017  01:39 PM               332 DuplicateWordsInStringsUsingSets.py\n",
      "16/11/2017  06:08 PM             1,189 EmployeeNamesClass.py\n",
      "27/10/2017  03:54 PM               272 evalBigOddfromInputlist.py\n",
      "26/10/2017  05:10 PM               494 EvalSmallOddNumber.py\n",
      "27/11/2017  11:07 AM                63 exHooke.txt\n",
      "15/11/2017  05:06 PM               598 ExponentialDecayPlot.py\n",
      "03/11/2017  10:32 AM               749 ExtractNumbersFromString_print_sum.py\n",
      "30/10/2017  05:13 PM               174 Factorial.py\n",
      "30/10/2017  05:26 PM               286 FactorialUsingRecursion.py\n",
      "30/10/2017  06:04 PM               380 fibo.py\n",
      "31/10/2017  06:13 PM               534 FibonacciNumberN_and_Test.py\n",
      "25/10/2017  05:24 PM               327 Fibonacci_1.py\n",
      "27/10/2017  04:07 PM               264 FindCubeRoot.py\n",
      "01/11/2017  08:34 PM               506 FindDivisors.py\n",
      "03/11/2017  05:13 PM               575 FindEvenNumber_using_try_except.py\n",
      "12/11/2017  07:19 PM               448 FindNumberInList.py\n",
      "05/12/2017  04:26 PM             1,059 FindPath.py\n",
      "05/12/2017  05:49 PM               812 FindShortestPath.py\n",
      "06/12/2017  04:47 PM               459 GCDNew.py\n",
      "04/12/2017  03:22 PM             4,067 GraphAndDigraph.py\n",
      "21/11/2017  01:27 PM             2,807 GreedyKnapsack.py\n",
      "24/11/2017  04:48 PM               831 HailstoneSequence.py\n",
      "16/11/2017  04:15 PM             2,182 HashTableCollisions.py\n",
      "14/11/2017  03:58 PM               723 IffyKeysValues_inalist.py\n",
      "17/11/2017  04:10 PM             1,684 InstanceClass_and_StaticMethods.py\n",
      "14/11/2017  04:00 PM             1,385 IntDictExercisePage139.py\n",
      "13/11/2017  09:08 PM               488 IntegerToString.py\n",
      "13/11/2017  11:19 PM               648 IntersectLists.py\n",
      "13/11/2017  10:59 PM               630 IsSubsetWithIsContainedSubFunction.py\n",
      "01/11/2017  05:50 PM                 6 kids\n",
      "02/11/2017  02:52 PM               770 LearningAppendToLists.py\n",
      "08/11/2017  02:52 PM               656 MergeSort.py\n",
      "02/11/2017  01:20 PM               731 MinMaxDivisors.py\n",
      "04/01/2018  02:49 PM    <DIR>          My code\n",
      "16/01/2018  10:31 PM               191 Names.txt\n",
      "30/10/2017  09:37 AM             1,269 NewtonRaphsonANDBisectionMethodCompared.py\n",
      "30/10/2017  09:07 AM               351 NewtonRaphsonSquareRootMethod.py\n",
      "04/12/2017  08:39 PM             1,404 NodeVisit.py\n",
      "31/10/2017  03:45 PM               488 Palindrome.py\n",
      "09/11/2017  05:38 PM               578 PalindromeThreeForLetters.py\n",
      "01/11/2017  04:58 PM               915 PalindromeTwo.py\n",
      "29/11/2017  05:45 PM               643 PandaTutorial.py\n",
      "14/11/2017  06:29 PM             5,233 PlotDifferentMortgagesDoesNotWork.py\n",
      "16/11/2017  01:16 PM             1,524 PlotErrorBars.py\n",
      "14/11/2017  05:13 PM               356 plotfiguredelete.py\n",
      "15/11/2017  05:52 PM               971 PlotGeometricDistribution.py\n",
      "16/11/2017  11:20 AM             3,049 PlotStdDev.py\n",
      "09/11/2017  06:14 PM                95 poem.txt\n",
      "24/11/2017  05:16 PM               652 ProbabilityOfMonthBirth.py\n",
      "21/11/2017  04:18 PM             6,574 RandomWalk.py\n",
      "03/11/2017  05:41 PM             1,390 RatiosOfTwoLists_TwoMethods.py\n",
      "23/11/2017  06:39 PM             4,099 RecursionExercisesVarious.py\n",
      "22/11/2017  11:51 PM               223 RecursiveSumOfDigits.py\n",
      "02/11/2017  03:41 PM               291 RemoveDuplicates.py\n",
      "21/11/2017  08:18 PM             1,135 RobotsOopExample.py\n",
      "15/11/2017  01:21 PM               560 RollDieSequence.py\n",
      "15/11/2017  02:01 PM               569 RollDieSequenceTesting.py\n",
      "27/10/2017  06:31 PM               272 RootPowerAnyNumber.py\n",
      "30/10/2017  04:26 PM               864 RootPowerAnyNumberIncludingTestFunction.py\n",
      "22/11/2017  04:50 PM             2,489 SchoolMemberOopExample.py\n",
      "07/11/2017  10:12 PM               622 SearchInAStringExample.py\n",
      "21/11/2017  01:49 PM             5,059 ShortestPathAlgorithm.py\n",
      "06/11/2017  02:48 PM             2,146 SimpleCustomerCreationClassCode.py\n",
      "09/11/2017  06:19 PM               726 SimpleFileCreation.py\n",
      "01/11/2017  05:26 PM               153 SimplePalindrome.py\n",
      "14/11/2017  05:14 PM               391 SimplePlotFigure.py\n",
      "30/10/2017  10:35 AM               623 Simple_LettersComparedTwoStrings.py\n",
      "16/11/2017  04:15 PM             1,078 SimulateSeriesGames.py\n",
      "31/10/2017  01:41 PM             6,936 singlesyllable.csv\n",
      "26/10/2017  05:38 PM               335 SqByAdd.py\n",
      "15/02/2018  11:03 AM               479 sql_test.py\n",
      "29/10/2017  09:12 PM               563 SquareRootByBisection.py\n",
      "05/11/2017  07:27 PM             1,135 Teacher_Student_Class_attributes_exercise.py\n",
      "15/11/2017  02:25 PM               984 TestCoinToss.py\n",
      "15/11/2017  03:02 PM             1,178 TestCoinTossPlot.py\n",
      "16/01/2018  03:10 PM                76 testfile.txt\n",
      "16/11/2017  10:18 PM               427 testingzip.py\n",
      "16/11/2017  10:30 PM               953 testingzip_2.py\n",
      "03/11/2017  08:09 AM             1,506 Translation_simple_English_French.py\n",
      "30/10/2017  03:28 PM               286 UnderstandingScopingAndNestedFunctions.py\n",
      "16/02/2018  09:34 PM             2,075 Untitled.ipynb\n",
      "03/11/2017  01:55 PM                 0 WIP.py\n",
      "23/11/2017  02:51 PM               718 _main_function_attemptToUnderstand.py\n",
      "04/01/2018  01:02 PM    <DIR>          __pycache__\n",
      "             112 File(s)        132,781 bytes\n",
      "               7 Dir(s)  26,923,196,416 bytes free\n"
     ]
    }
   ],
   "source": [
    "! dir\n"
   ]
  },
  {
   "cell_type": "code",
   "execution_count": 21,
   "metadata": {},
   "outputs": [
    {
     "name": "stdout",
     "output_type": "stream",
     "text": [
      "# -*- coding: utf-8 -*-\n",
      "\n",
      "\"\"\"\n",
      "\n",
      "Created on Tue Jan 16 16:42:48 2018\n",
      "\n",
      "\n",
      "\n",
      "@author: User\n",
      "\n",
      "\"\"\"\n",
      "\n",
      "\n",
      "\n",
      "#def getNames():\n",
      "\n",
      "#    nameFile = open('names.txt', 'r')\n",
      "\n",
      "#    readFile = nameFile.readlines()\n",
      "\n",
      "#    Types = [line.split(\"\\n\") for line in readFile]\n",
      "\n",
      "#    print(Types)\n",
      "\n",
      "#    nameList = [Type[0] for Type in Types]\n",
      "\n",
      "#    print(nameList)\n",
      "\n",
      "#    listOfNames = []\n",
      "\n",
      "#    for aName in nameList:\n",
      "\n",
      "#        listOfNames.append(aName.split( ' '))\n",
      "\n",
      "#    return listOfNames\n",
      "\n",
      "#\n",
      "\n",
      "#print(getNames())\n",
      "\n",
      "\n",
      "\n",
      "\n",
      "\n",
      "def aDictMethod(dict1):\n",
      "\n",
      "    revDict = {}\n",
      "\n",
      "    for k, v in dict1.items():\n",
      "\n",
      "        if v not in revDict:\n",
      "\n",
      "            revDict[v] = set()\n",
      "\n",
      "        revDict[v].add(k)\n",
      "\n",
      "    return revDict\n",
      "\n",
      "\n",
      "\n",
      "dict1 = {'Europa': 'Jupiter', 'Psamathe': 'Neptune', 'Cordelia': 'Uranus', 'Cupid': 'Uranus'}\n",
      "\n",
      "\n",
      "\n",
      "print(aDictMethod(dict1))\n",
      "\n"
     ]
    }
   ],
   "source": [
    "f = open('del1.py')\n",
    "\n",
    "for i in f.readlines():\n",
    "    print(i)\n",
    "\n",
    "f.close()"
   ]
  },
  {
   "cell_type": "code",
   "execution_count": null,
   "metadata": {
    "collapsed": true
   },
   "outputs": [],
   "source": []
  },
  {
   "cell_type": "code",
   "execution_count": null,
   "metadata": {
    "collapsed": true
   },
   "outputs": [],
   "source": []
  },
  {
   "cell_type": "markdown",
   "metadata": {},
   "source": [
    "###  Question 3 Part 1 "
   ]
  },
  {
   "cell_type": "code",
   "execution_count": 4,
   "metadata": {},
   "outputs": [
    {
     "name": "stdout",
     "output_type": "stream",
     "text": [
      "0\n",
      "1\n",
      "2\n",
      "3\n",
      "4\n"
     ]
    }
   ],
   "source": [
    "for i in range(5):\n",
    "    print(i)"
   ]
  },
  {
   "cell_type": "code",
   "execution_count": null,
   "metadata": {
    "collapsed": true
   },
   "outputs": [],
   "source": []
  },
  {
   "cell_type": "code",
   "execution_count": null,
   "metadata": {
    "collapsed": true
   },
   "outputs": [],
   "source": []
  },
  {
   "cell_type": "code",
   "execution_count": null,
   "metadata": {
    "collapsed": true
   },
   "outputs": [],
   "source": []
  },
  {
   "cell_type": "markdown",
   "metadata": {},
   "source": [
    "## Rough Stuff"
   ]
  },
  {
   "cell_type": "code",
   "execution_count": 5,
   "metadata": {},
   "outputs": [
    {
     "name": "stdout",
     "output_type": "stream",
     "text": [
      "random\n"
     ]
    }
   ],
   "source": [
    "print('random')"
   ]
  },
  {
   "cell_type": "code",
   "execution_count": null,
   "metadata": {
    "collapsed": true
   },
   "outputs": [],
   "source": []
  }
 ],
 "metadata": {
  "kernelspec": {
   "display_name": "Python 3",
   "language": "python",
   "name": "python3"
  },
  "language_info": {
   "codemirror_mode": {
    "name": "ipython",
    "version": 3
   },
   "file_extension": ".py",
   "mimetype": "text/x-python",
   "name": "python",
   "nbconvert_exporter": "python",
   "pygments_lexer": "ipython3",
   "version": "3.6.3"
  }
 },
 "nbformat": 4,
 "nbformat_minor": 2
}

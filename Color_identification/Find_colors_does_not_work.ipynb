{
 "cells": [
  {
   "cell_type": "markdown",
   "metadata": {},
   "source": [
    "https://zeevgilovitz.com/detecting-dominant-colours-in-python - did not work\n",
    "http://rstudio-pubs-static.s3.amazonaws.com/155921_d1b0d531118d46839a747b7c8b90e08b.html#scrapping-images-with-python - code below but not complete\n",
    "\n"
   ]
  },
  {
   "cell_type": "code",
   "execution_count": 1,
   "metadata": {
    "collapsed": true
   },
   "outputs": [],
   "source": [
    "from bs4 import BeautifulSoup\n",
    "import requests\n",
    "import re\n",
    "from urllib.request import urlopen\n",
    "import os\n",
    "import numpy as np"
   ]
  },
  {
   "cell_type": "code",
   "execution_count": 2,
   "metadata": {
    "collapsed": true
   },
   "outputs": [],
   "source": [
    "def get_soup(url):\n",
    "    return BeautifulSoup(requests.get(url).text, \"lxml\")"
   ]
  },
  {
   "cell_type": "code",
   "execution_count": 3,
   "metadata": {
    "collapsed": true
   },
   "outputs": [],
   "source": [
    "image_type = 'comedy' # insert type here\n",
    "query = 'movie 2017 comedy poster'\n",
    "url = 'http://www.bing.com/images/search?q=\" + query + \"&qft=+filterui:color2-bw+filterui:imagesize-large&FORM=R5IR3'"
   ]
  },
  {
   "cell_type": "code",
   "execution_count": 4,
   "metadata": {
    "collapsed": true
   },
   "outputs": [],
   "source": [
    "soup = get_soup(url)\n",
    "images = [a['src'] for a in soup.find_all(\"img\", {\"src\": re.compile(\"mm.bing.net\")})]"
   ]
  },
  {
   "cell_type": "code",
   "execution_count": 7,
   "metadata": {},
   "outputs": [],
   "source": [
    "for img in images:\n",
    "    raw_img = urlopen(img).read()\n",
    "    cntr = len([i for i in os.listdir(\"./images\") if image_type in i]) + 1\n",
    "    f = open(\"./images/\" + image_type + \"_\"+ str(cntr), 'wb')\n",
    "    f.write(raw_img)\n",
    "    f.close"
   ]
  },
  {
   "cell_type": "code",
   "execution_count": 8,
   "metadata": {
    "collapsed": true
   },
   "outputs": [],
   "source": [
    "def get_points(img): \n",
    "    points = [] \n",
    "    w, h = img.size \n",
    "    for count, color in img.getcolors(w * h): \n",
    "        points.append(Point(color, 3, count))\n",
    "    return points \n",
    "rtoh = lambda rgb: '#%s' % ''.join(('%02x' % p for p in rgb)) "
   ]
  },
  {
   "cell_type": "code",
   "execution_count": 9,
   "metadata": {
    "collapsed": true
   },
   "outputs": [],
   "source": [
    "def colorz(filename, n=5):\n",
    "    img = Image.open(filename) \n",
    "    img.thumbnail((200, 200)) \n",
    "    w, h = img.size \n",
    "    points = get_points(img) \n",
    "    clusters = kmeans(points, n, 1) \n",
    "    rgbs = [map(int, c.center.coords) for c in clusters] \n",
    "    col_dict={} # using dictionary to store the colors as keys \n",
    "    # I will also store the lab difference into it \n",
    "    # then output as a csv file \n",
    "    col_dict['index'] = ['html_color', 'r,g,b', 'black', 'gray',\n",
    "    'sliver','white','maroon','red','olive',\n",
    "    'yellow','green','lime','teal','aqua',\n",
    "    'navy','blue','orange','purple','fuchsia','brown'] \n",
    "    counter=1\n",
    "    for col in rgbs:\n",
    "        col_index=filename+str(counter) \n",
    "        html=rtoh(col) \n",
    "        scale_rgbs= sRGBColor(col[0]/255.0,col[1]/255.0,col[2]/255.0) \n",
    "        lab_n = convert_color(scale_rgbs, LabColor)\n",
    "        \n",
    "        #compared with other basic colors: \n",
    "        de_black= delta_e_cie1976(lab_n, black) \n",
    "        de_gray= delta_e_cie1976(lab_n, gray) \n",
    "        de_sliver= delta_e_cie1976(lab_n, sliver) \n",
    "        de_white= delta_e_cie1976(lab_n, white) \n",
    "        de_maroon= delta_e_cie1976(lab_n, maroon) \n",
    "        de_red= delta_e_cie1976(lab_n, red) \n",
    "        de_olive= delta_e_cie1976(lab_n, olive) \n",
    "        de_yellow= delta_e_cie1976(lab_n, yellow) \n",
    "        de_green= delta_e_cie1976(lab_n, green) \n",
    "        de_lime= delta_e_cie1976(lab_n, lime) \n",
    "        de_teal= delta_e_cie1976(lab_n, teal) \n",
    "        de_aqua= delta_e_cie1976(lab_n, aqua) \n",
    "        de_navy= delta_e_cie1976(lab_n, navy) \n",
    "        de_blue= delta_e_cie1976(lab_n, blue) \n",
    "        de_orange= delta_e_cie1976(lab_n, orange) \n",
    "        de_purple= delta_e_cie1976(lab_n, purple) \n",
    "        de_fuchsia= delta_e_cie1976(lab_n, fuchsia) \n",
    "        de_brown= delta_e_cie1976(lab_n, brown) \n",
    "        # store the html color as the first col \n",
    "        col_dict[col_index]=[html,tuple(col),de_black,de_gray,\n",
    "                             de_sliver,de_white,de_maroon,de_red,\n",
    "                             de_olive,de_yellow,de_green,de_lime,\n",
    "                             de_teal,de_aqua,de_navy,de_blue,\n",
    "                             de_orange,de_purple,de_fuchsia,de_brown] \n",
    "        counter+=1 \n",
    "    return col_dict "
   ]
  },
  {
   "cell_type": "code",
   "execution_count": null,
   "metadata": {
    "collapsed": true
   },
   "outputs": [],
   "source": []
  },
  {
   "cell_type": "code",
   "execution_count": null,
   "metadata": {
    "collapsed": true
   },
   "outputs": [],
   "source": []
  },
  {
   "cell_type": "code",
   "execution_count": null,
   "metadata": {
    "collapsed": true
   },
   "outputs": [],
   "source": []
  },
  {
   "cell_type": "code",
   "execution_count": null,
   "metadata": {
    "collapsed": true
   },
   "outputs": [],
   "source": []
  },
  {
   "cell_type": "code",
   "execution_count": null,
   "metadata": {
    "collapsed": true
   },
   "outputs": [],
   "source": []
  },
  {
   "cell_type": "code",
   "execution_count": null,
   "metadata": {
    "collapsed": true
   },
   "outputs": [],
   "source": []
  },
  {
   "cell_type": "code",
   "execution_count": null,
   "metadata": {
    "collapsed": true
   },
   "outputs": [],
   "source": []
  }
 ],
 "metadata": {
  "kernelspec": {
   "display_name": "Python 3",
   "language": "python",
   "name": "python3"
  },
  "language_info": {
   "codemirror_mode": {
    "name": "ipython",
    "version": 3
   },
   "file_extension": ".py",
   "mimetype": "text/x-python",
   "name": "python",
   "nbconvert_exporter": "python",
   "pygments_lexer": "ipython3",
   "version": "3.6.3"
  }
 },
 "nbformat": 4,
 "nbformat_minor": 2
}

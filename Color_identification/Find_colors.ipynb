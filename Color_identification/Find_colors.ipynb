{
 "cells": [
  {
   "cell_type": "markdown",
   "metadata": {},
   "source": [
    "https://code.likeagirl.io/finding-dominant-colour-on-an-image-b4e075f98097"
   ]
  },
  {
   "cell_type": "code",
   "execution_count": 2,
   "metadata": {
    "collapsed": true
   },
   "outputs": [],
   "source": [
    "import cv2\n",
    "import numpy as np\n",
    "import matplotlib.pyplot as plt\n",
    "from sklearn.cluster import KMeans"
   ]
  },
  {
   "cell_type": "code",
   "execution_count": 3,
   "metadata": {
    "collapsed": true
   },
   "outputs": [],
   "source": [
    "def find_histogram(clt):\n",
    "    \"\"\" create a histogram with k clusters\n",
    "    :param: clt\n",
    "    :return: hist \"\"\"\n",
    "    numLabels = np.arange(0, len(np.unique(clt.labels_)) + 1)\n",
    "#     for 3 clusters the numLabels will be 0, 1, 2, 3\n",
    "    (hist, _) = np.histogram(clt.labels_, bins=numLabels)\n",
    "#     clt.labels_ is an array which includes cluster label for each pixel\n",
    "    hist = hist.astype(\"float\")\n",
    "    hist /= hist.sum() # calculate ratios of histogram values\n",
    "    return hist\n",
    "\n",
    "def plot_colors2(hist, centroids):\n",
    "    bar = np.zeros((50, 300, 3), dtype=\"uint8\")\n",
    "    startX = 0\n",
    "    for (percent, color) in zip(hist, centroids):\n",
    "        # plot the relative percentage of each cluster\n",
    "        endX = startX + (percent * 300)\n",
    "        cv2.rectangle(bar, (int(startX), 0), (int(endX), 50),\n",
    "                      color.astype(\"uint8\").tolist(), -1)\n",
    "        startX = endX\n",
    "    # return the bar chart\n",
    "    return bar"
   ]
  },
  {
   "cell_type": "code",
   "execution_count": 8,
   "metadata": {},
   "outputs": [
    {
     "data": {
      "text/plain": [
       "KMeans(algorithm='auto', copy_x=True, init='k-means++', max_iter=300,\n",
       "    n_clusters=6, n_init=10, n_jobs=1, precompute_distances='auto',\n",
       "    random_state=None, tol=0.0001, verbose=0)"
      ]
     },
     "execution_count": 8,
     "metadata": {},
     "output_type": "execute_result"
    }
   ],
   "source": [
    "# img = cv2.imread('The_Persistence_of_Memory.jpg') # or,\n",
    "# img = cv2.imread('Mona_lisa.jpg') # or,\n",
    "# img = cv2.imread('Starry-Night.jpg') # read as Blue-Green-Red, if (filename, 0) then read as grayscale\n",
    "# img = cv2.imread('seurat_sunday_afternoon.jpg') # low res image\n",
    "img = cv2.imread('cezanne_fruit_basket.jpg') # low res image\n",
    "img = cv2.cvtColor(img, cv2.COLOR_BGR2RGB) # convert channels to R-G-B\n",
    "# the information is row number X column number X color channel number\n",
    "# convert the 3-D matrix to 2-D as we do not need row and column\n",
    "img = img.reshape((img.shape[0] * img.shape[1], 3)) #represent as row*column, color channel number\n",
    "clt = KMeans(n_clusters=4) # cluster numbers in histogram - ie how many dominant colors\n",
    "# do you want to see\n",
    "clt.fit(img)\n",
    "# At this stage the image processing is all done, now to plot"
   ]
  },
  {
   "cell_type": "code",
   "execution_count": 9,
   "metadata": {},
   "outputs": [
    {
     "data": {
      "image/png": "[encoded data removed]",
      "text/plain": [
       "<matplotlib.figure.Figure at 0xa6146a0>"
      ]
     },
     "metadata": {},
     "output_type": "display_data"
    }
   ],
   "source": [
    "hist = find_histogram(clt)\n",
    "bar = plot_colors2(hist, clt.cluster_centers_)\n",
    "plt.axis(\"off\")\n",
    "plt.imshow(bar)\n",
    "plt.savefig('fruit_basket.png', dpi=300, facecolor='w', edgecolor='w',\n",
    "        orientation='portrait', papertype=None, format=None,\n",
    "        transparent=False, bbox_inches=None, pad_inches=0,\n",
    "        frameon=None)\n",
    "plt.show()"
   ]
  },
  {
   "cell_type": "code",
   "execution_count": null,
   "metadata": {
    "collapsed": true
   },
   "outputs": [],
   "source": []
  },
  {
   "cell_type": "code",
   "execution_count": null,
   "metadata": {
    "collapsed": true
   },
   "outputs": [],
   "source": []
  },
  {
   "cell_type": "code",
   "execution_count": null,
   "metadata": {
    "collapsed": true
   },
   "outputs": [],
   "source": []
  }
 ],
 "metadata": {
  "kernelspec": {
   "display_name": "Python 3",
   "language": "python",
   "name": "python3"
  },
  "language_info": {
   "codemirror_mode": {
    "name": "ipython",
    "version": 3
   },
   "file_extension": ".py",
   "mimetype": "text/x-python",
   "name": "python",
   "nbconvert_exporter": "python",
   "pygments_lexer": "ipython3",
   "version": "3.6.3"
  }
 },
 "nbformat": 4,
 "nbformat_minor": 2
}

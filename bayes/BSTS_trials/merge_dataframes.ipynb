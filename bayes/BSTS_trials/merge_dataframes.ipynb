{
 "cells": [
  {
   "cell_type": "markdown",
   "metadata": {},
   "source": [
    "https://www.datacamp.com/community/tutorials/naive-bayes-scikit-learn"
   ]
  },
  {
   "cell_type": "code",
   "execution_count": 1,
   "metadata": {},
   "outputs": [],
   "source": [
    "import pandas as pd"
   ]
  },
  {
   "cell_type": "code",
   "execution_count": 2,
   "metadata": {},
   "outputs": [],
   "source": [
    "# for windows using Path\n",
    "from pathlib import Path\n",
    "data_folder = Path(\"C:\\\\Users\\\\User\\\\Dropbox\\\\python-pandas-code\\\\bayes\")\n",
    "# Note two backslashes for Windows"
   ]
  },
  {
   "cell_type": "code",
   "execution_count": 14,
   "metadata": {},
   "outputs": [],
   "source": [
    "# For Mac\n",
    "bdi_in = pd.read_csv(\"/Users/arvindkarir/Dropbox/python-pandas-code/bayes/data_bdi.csv\")\n",
    "fedrate_in = pd.read_csv(\"/Users/arvindkarir/Dropbox/python-pandas-code/bayes/data_fedrate.csv\")\n",
    "yield_in = pd.read_csv(\"/Users/arvindkarir/Dropbox/python-pandas-code/bayes/data_10y3mo.csv\")\n",
    "# Getting path from Terminal adds '\\' to spaces, needs to be removed"
   ]
  },
  {
   "cell_type": "code",
   "execution_count": 189,
   "metadata": {},
   "outputs": [],
   "source": [
    "# bring in the bdi data\n",
    "#bdi_in = pd.read_csv(data_folder / \"data_bdi.csv\")"
   ]
  },
  {
   "cell_type": "code",
   "execution_count": 15,
   "metadata": {},
   "outputs": [],
   "source": [
    "df1 = pd.DataFrame(bdi_in)\n",
    "df2 = pd.DataFrame(fedrate_in)\n",
    "df3 = pd.DataFrame(yield_in)"
   ]
  },
  {
   "cell_type": "code",
   "execution_count": 29,
   "metadata": {},
   "outputs": [],
   "source": [
    "df1['year'] = pd.to_datetime(df1.date).dt.year\n",
    "df1['qtr'] = pd.to_datetime(df1.date).dt.quarter"
   ]
  },
  {
   "cell_type": "code",
   "execution_count": 30,
   "metadata": {},
   "outputs": [],
   "source": [
    "mean_bdi = df1.groupby(['year', 'qtr'])['bdi'].mean()"
   ]
  },
  {
   "cell_type": "code",
   "execution_count": 31,
   "metadata": {},
   "outputs": [],
   "source": [
    "# export data for merge later\n",
    "df1.to_csv(r'data_bdi_fixed.csv', columns = ['year','qtr','bdi','r'] ,index=False)"
   ]
  },
  {
   "cell_type": "markdown",
   "metadata": {},
   "source": [
    "# bring in fed rates file\n",
    "fedrate_in = pd.read_csv(data_folder / \"data_fedrate.csv\")"
   ]
  },
  {
   "cell_type": "code",
   "execution_count": 23,
   "metadata": {},
   "outputs": [],
   "source": [
    "# convert date to year and quarter\n",
    "df2['year'] = pd.to_datetime(df2.date).dt.year\n",
    "df2['qtr'] = pd.to_datetime(df2.date).dt.quarter"
   ]
  },
  {
   "cell_type": "code",
   "execution_count": 33,
   "metadata": {},
   "outputs": [],
   "source": [
    "# need to find the mean rate for each quarter\n",
    "mean_fedrate = df2.groupby(['year', 'qtr'])['fed_rate'].mean()\n",
    "\n",
    "#twomean_fedrate = df2.groupby(['year', 'qtr']).agg( ['mean']) # results in a multi-index column\n",
    "#mean_fedrate.columns = mean_fedrate.columns.droplevel(1)"
   ]
  },
  {
   "cell_type": "code",
   "execution_count": 34,
   "metadata": {},
   "outputs": [
    {
     "data": {
      "text/plain": [
       "year  qtr\n",
       "1954  3      1.026667\n",
       "      4      0.986667\n",
       "1955  1      1.343333\n",
       "      2      1.500000\n",
       "      3      1.940000\n",
       "      4      2.356667\n",
       "1956  1      2.483333\n",
       "      2      2.693333\n",
       "      3      2.810000\n",
       "      4      2.926667\n",
       "Name: fed_rate, dtype: float64"
      ]
     },
     "execution_count": 34,
     "metadata": {},
     "output_type": "execute_result"
    }
   ],
   "source": [
    "mean_fedrate[:10]"
   ]
  },
  {
   "cell_type": "code",
   "execution_count": 36,
   "metadata": {},
   "outputs": [],
   "source": [
    "mean_fedrate.to_csv(r'data_fedrate_fixed.csv', header = \"True\")\n",
    "# adding header = \"True\" took care of the data in three column format"
   ]
  },
  {
   "cell_type": "markdown",
   "metadata": {},
   "source": [
    "# now for 10y3mo file\n",
    "df3 = pd.read_csv(data_folder / \"data_10y3mo.csv\")"
   ]
  },
  {
   "cell_type": "code",
   "execution_count": 37,
   "metadata": {},
   "outputs": [],
   "source": [
    "# convert date to year and quarter\n",
    "df3['year'] = pd.to_datetime(df3.date).dt.year\n",
    "df3['qtr'] = pd.to_datetime(df3.date).dt.quarter"
   ]
  },
  {
   "cell_type": "code",
   "execution_count": 38,
   "metadata": {},
   "outputs": [],
   "source": [
    "# need to find the mean rate for each quarter\n",
    "mean_yield = df3.groupby(['year', 'qtr'])['10y3mo'].mean()"
   ]
  },
  {
   "cell_type": "code",
   "execution_count": 41,
   "metadata": {},
   "outputs": [],
   "source": [
    "mean_yield.to_csv(r'data_yield_fixed.csv', header = \"True\")\n",
    "# file renamed to data_yield_fixed.csv  adding legend row for year, qtr, yield"
   ]
  },
  {
   "cell_type": "markdown",
   "metadata": {},
   "source": [
    "#### Merging all the files"
   ]
  },
  {
   "cell_type": "markdown",
   "metadata": {},
   "source": [
    "# windows\n",
    "df1new = pd.read_csv(data_folder / \"data_fedrate_fixed.csv\")\n",
    "df2new = pd.read_csv(data_folder / \"data_yield_fixed.csv\")\n",
    "df3new = pd.read_csv(data_folder / \"data_bdi_fixed.csv\")"
   ]
  },
  {
   "cell_type": "code",
   "execution_count": 43,
   "metadata": {},
   "outputs": [],
   "source": [
    "# mac\n",
    "df1new = pd.read_csv(\"data_fedrate_fixed.csv\")\n",
    "df2new = pd.read_csv(\"data_yield_fixed.csv\")\n",
    "df3new = pd.read_csv(\"data_bdi_fixed.csv\")"
   ]
  },
  {
   "cell_type": "code",
   "execution_count": 44,
   "metadata": {},
   "outputs": [
    {
     "data": {
      "text/html": [
       "<div>\n",
       "<style scoped>\n",
       "    .dataframe tbody tr th:only-of-type {\n",
       "        vertical-align: middle;\n",
       "    }\n",
       "\n",
       "    .dataframe tbody tr th {\n",
       "        vertical-align: top;\n",
       "    }\n",
       "\n",
       "    .dataframe thead th {\n",
       "        text-align: right;\n",
       "    }\n",
       "</style>\n",
       "<table border=\"1\" class=\"dataframe\">\n",
       "  <thead>\n",
       "    <tr style=\"text-align: right;\">\n",
       "      <th></th>\n",
       "      <th>year</th>\n",
       "      <th>qtr</th>\n",
       "      <th>bdi</th>\n",
       "      <th>r</th>\n",
       "    </tr>\n",
       "  </thead>\n",
       "  <tbody>\n",
       "    <tr>\n",
       "      <td>0</td>\n",
       "      <td>1985</td>\n",
       "      <td>1</td>\n",
       "      <td>978</td>\n",
       "      <td>0</td>\n",
       "    </tr>\n",
       "    <tr>\n",
       "      <td>1</td>\n",
       "      <td>1985</td>\n",
       "      <td>3</td>\n",
       "      <td>819</td>\n",
       "      <td>0</td>\n",
       "    </tr>\n",
       "    <tr>\n",
       "      <td>2</td>\n",
       "      <td>1985</td>\n",
       "      <td>4</td>\n",
       "      <td>820</td>\n",
       "      <td>0</td>\n",
       "    </tr>\n",
       "    <tr>\n",
       "      <td>3</td>\n",
       "      <td>1986</td>\n",
       "      <td>2</td>\n",
       "      <td>620</td>\n",
       "      <td>0</td>\n",
       "    </tr>\n",
       "    <tr>\n",
       "      <td>4</td>\n",
       "      <td>1986</td>\n",
       "      <td>4</td>\n",
       "      <td>748</td>\n",
       "      <td>0</td>\n",
       "    </tr>\n",
       "  </tbody>\n",
       "</table>\n",
       "</div>"
      ],
      "text/plain": [
       "   year  qtr  bdi  r\n",
       "0  1985    1  978  0\n",
       "1  1985    3  819  0\n",
       "2  1985    4  820  0\n",
       "3  1986    2  620  0\n",
       "4  1986    4  748  0"
      ]
     },
     "execution_count": 44,
     "metadata": {},
     "output_type": "execute_result"
    }
   ],
   "source": [
    "df3new[:5]"
   ]
  },
  {
   "cell_type": "code",
   "execution_count": 45,
   "metadata": {},
   "outputs": [],
   "source": [
    "# merging on year and qtr\n",
    "merge1 = pd.merge(df1new, df2new, on=['year', 'qtr'], how = \"left\")"
   ]
  },
  {
   "cell_type": "code",
   "execution_count": 46,
   "metadata": {},
   "outputs": [
    {
     "data": {
      "text/html": [
       "<div>\n",
       "<style scoped>\n",
       "    .dataframe tbody tr th:only-of-type {\n",
       "        vertical-align: middle;\n",
       "    }\n",
       "\n",
       "    .dataframe tbody tr th {\n",
       "        vertical-align: top;\n",
       "    }\n",
       "\n",
       "    .dataframe thead th {\n",
       "        text-align: right;\n",
       "    }\n",
       "</style>\n",
       "<table border=\"1\" class=\"dataframe\">\n",
       "  <thead>\n",
       "    <tr style=\"text-align: right;\">\n",
       "      <th></th>\n",
       "      <th>year</th>\n",
       "      <th>qtr</th>\n",
       "      <th>fed_rate</th>\n",
       "      <th>10y3mo</th>\n",
       "    </tr>\n",
       "  </thead>\n",
       "  <tbody>\n",
       "    <tr>\n",
       "      <td>0</td>\n",
       "      <td>1954</td>\n",
       "      <td>3</td>\n",
       "      <td>1.026667</td>\n",
       "      <td>NaN</td>\n",
       "    </tr>\n",
       "    <tr>\n",
       "      <td>1</td>\n",
       "      <td>1954</td>\n",
       "      <td>4</td>\n",
       "      <td>0.986667</td>\n",
       "      <td>NaN</td>\n",
       "    </tr>\n",
       "    <tr>\n",
       "      <td>2</td>\n",
       "      <td>1955</td>\n",
       "      <td>1</td>\n",
       "      <td>1.343333</td>\n",
       "      <td>NaN</td>\n",
       "    </tr>\n",
       "    <tr>\n",
       "      <td>3</td>\n",
       "      <td>1955</td>\n",
       "      <td>2</td>\n",
       "      <td>1.500000</td>\n",
       "      <td>NaN</td>\n",
       "    </tr>\n",
       "    <tr>\n",
       "      <td>4</td>\n",
       "      <td>1955</td>\n",
       "      <td>3</td>\n",
       "      <td>1.940000</td>\n",
       "      <td>NaN</td>\n",
       "    </tr>\n",
       "    <tr>\n",
       "      <td>5</td>\n",
       "      <td>1955</td>\n",
       "      <td>4</td>\n",
       "      <td>2.356667</td>\n",
       "      <td>NaN</td>\n",
       "    </tr>\n",
       "    <tr>\n",
       "      <td>6</td>\n",
       "      <td>1956</td>\n",
       "      <td>1</td>\n",
       "      <td>2.483333</td>\n",
       "      <td>NaN</td>\n",
       "    </tr>\n",
       "    <tr>\n",
       "      <td>7</td>\n",
       "      <td>1956</td>\n",
       "      <td>2</td>\n",
       "      <td>2.693333</td>\n",
       "      <td>NaN</td>\n",
       "    </tr>\n",
       "    <tr>\n",
       "      <td>8</td>\n",
       "      <td>1956</td>\n",
       "      <td>3</td>\n",
       "      <td>2.810000</td>\n",
       "      <td>NaN</td>\n",
       "    </tr>\n",
       "    <tr>\n",
       "      <td>9</td>\n",
       "      <td>1956</td>\n",
       "      <td>4</td>\n",
       "      <td>2.926667</td>\n",
       "      <td>NaN</td>\n",
       "    </tr>\n",
       "  </tbody>\n",
       "</table>\n",
       "</div>"
      ],
      "text/plain": [
       "   year  qtr  fed_rate  10y3mo\n",
       "0  1954    3  1.026667     NaN\n",
       "1  1954    4  0.986667     NaN\n",
       "2  1955    1  1.343333     NaN\n",
       "3  1955    2  1.500000     NaN\n",
       "4  1955    3  1.940000     NaN\n",
       "5  1955    4  2.356667     NaN\n",
       "6  1956    1  2.483333     NaN\n",
       "7  1956    2  2.693333     NaN\n",
       "8  1956    3  2.810000     NaN\n",
       "9  1956    4  2.926667     NaN"
      ]
     },
     "execution_count": 46,
     "metadata": {},
     "output_type": "execute_result"
    }
   ],
   "source": [
    "merge1[:10]"
   ]
  },
  {
   "cell_type": "code",
   "execution_count": 47,
   "metadata": {},
   "outputs": [],
   "source": [
    "# second merge on year and qtr\n",
    "merge2 = pd.merge(merge1, df3new, on=['year', 'qtr'], how = \"left\")"
   ]
  },
  {
   "cell_type": "code",
   "execution_count": 48,
   "metadata": {},
   "outputs": [
    {
     "data": {
      "text/html": [
       "<div>\n",
       "<style scoped>\n",
       "    .dataframe tbody tr th:only-of-type {\n",
       "        vertical-align: middle;\n",
       "    }\n",
       "\n",
       "    .dataframe tbody tr th {\n",
       "        vertical-align: top;\n",
       "    }\n",
       "\n",
       "    .dataframe thead th {\n",
       "        text-align: right;\n",
       "    }\n",
       "</style>\n",
       "<table border=\"1\" class=\"dataframe\">\n",
       "  <thead>\n",
       "    <tr style=\"text-align: right;\">\n",
       "      <th></th>\n",
       "      <th>year</th>\n",
       "      <th>qtr</th>\n",
       "      <th>fed_rate</th>\n",
       "      <th>10y3mo</th>\n",
       "      <th>bdi</th>\n",
       "      <th>r</th>\n",
       "    </tr>\n",
       "  </thead>\n",
       "  <tbody>\n",
       "    <tr>\n",
       "      <td>0</td>\n",
       "      <td>1954</td>\n",
       "      <td>3</td>\n",
       "      <td>1.026667</td>\n",
       "      <td>NaN</td>\n",
       "      <td>NaN</td>\n",
       "      <td>NaN</td>\n",
       "    </tr>\n",
       "    <tr>\n",
       "      <td>1</td>\n",
       "      <td>1954</td>\n",
       "      <td>4</td>\n",
       "      <td>0.986667</td>\n",
       "      <td>NaN</td>\n",
       "      <td>NaN</td>\n",
       "      <td>NaN</td>\n",
       "    </tr>\n",
       "    <tr>\n",
       "      <td>2</td>\n",
       "      <td>1955</td>\n",
       "      <td>1</td>\n",
       "      <td>1.343333</td>\n",
       "      <td>NaN</td>\n",
       "      <td>NaN</td>\n",
       "      <td>NaN</td>\n",
       "    </tr>\n",
       "    <tr>\n",
       "      <td>3</td>\n",
       "      <td>1955</td>\n",
       "      <td>2</td>\n",
       "      <td>1.500000</td>\n",
       "      <td>NaN</td>\n",
       "      <td>NaN</td>\n",
       "      <td>NaN</td>\n",
       "    </tr>\n",
       "    <tr>\n",
       "      <td>4</td>\n",
       "      <td>1955</td>\n",
       "      <td>3</td>\n",
       "      <td>1.940000</td>\n",
       "      <td>NaN</td>\n",
       "      <td>NaN</td>\n",
       "      <td>NaN</td>\n",
       "    </tr>\n",
       "    <tr>\n",
       "      <td>5</td>\n",
       "      <td>1955</td>\n",
       "      <td>4</td>\n",
       "      <td>2.356667</td>\n",
       "      <td>NaN</td>\n",
       "      <td>NaN</td>\n",
       "      <td>NaN</td>\n",
       "    </tr>\n",
       "    <tr>\n",
       "      <td>6</td>\n",
       "      <td>1956</td>\n",
       "      <td>1</td>\n",
       "      <td>2.483333</td>\n",
       "      <td>NaN</td>\n",
       "      <td>NaN</td>\n",
       "      <td>NaN</td>\n",
       "    </tr>\n",
       "    <tr>\n",
       "      <td>7</td>\n",
       "      <td>1956</td>\n",
       "      <td>2</td>\n",
       "      <td>2.693333</td>\n",
       "      <td>NaN</td>\n",
       "      <td>NaN</td>\n",
       "      <td>NaN</td>\n",
       "    </tr>\n",
       "    <tr>\n",
       "      <td>8</td>\n",
       "      <td>1956</td>\n",
       "      <td>3</td>\n",
       "      <td>2.810000</td>\n",
       "      <td>NaN</td>\n",
       "      <td>NaN</td>\n",
       "      <td>NaN</td>\n",
       "    </tr>\n",
       "    <tr>\n",
       "      <td>9</td>\n",
       "      <td>1956</td>\n",
       "      <td>4</td>\n",
       "      <td>2.926667</td>\n",
       "      <td>NaN</td>\n",
       "      <td>NaN</td>\n",
       "      <td>NaN</td>\n",
       "    </tr>\n",
       "  </tbody>\n",
       "</table>\n",
       "</div>"
      ],
      "text/plain": [
       "   year  qtr  fed_rate  10y3mo  bdi   r\n",
       "0  1954    3  1.026667     NaN  NaN NaN\n",
       "1  1954    4  0.986667     NaN  NaN NaN\n",
       "2  1955    1  1.343333     NaN  NaN NaN\n",
       "3  1955    2  1.500000     NaN  NaN NaN\n",
       "4  1955    3  1.940000     NaN  NaN NaN\n",
       "5  1955    4  2.356667     NaN  NaN NaN\n",
       "6  1956    1  2.483333     NaN  NaN NaN\n",
       "7  1956    2  2.693333     NaN  NaN NaN\n",
       "8  1956    3  2.810000     NaN  NaN NaN\n",
       "9  1956    4  2.926667     NaN  NaN NaN"
      ]
     },
     "execution_count": 48,
     "metadata": {},
     "output_type": "execute_result"
    }
   ],
   "source": [
    "merge2[:10]"
   ]
  },
  {
   "cell_type": "code",
   "execution_count": 49,
   "metadata": {},
   "outputs": [],
   "source": [
    "# need to declare a new df, or dropna doesn't work properly\n",
    "dropna_merged_data = merge2.dropna(how='any')"
   ]
  },
  {
   "cell_type": "code",
   "execution_count": 50,
   "metadata": {},
   "outputs": [
    {
     "data": {
      "text/html": [
       "<div>\n",
       "<style scoped>\n",
       "    .dataframe tbody tr th:only-of-type {\n",
       "        vertical-align: middle;\n",
       "    }\n",
       "\n",
       "    .dataframe tbody tr th {\n",
       "        vertical-align: top;\n",
       "    }\n",
       "\n",
       "    .dataframe thead th {\n",
       "        text-align: right;\n",
       "    }\n",
       "</style>\n",
       "<table border=\"1\" class=\"dataframe\">\n",
       "  <thead>\n",
       "    <tr style=\"text-align: right;\">\n",
       "      <th></th>\n",
       "      <th>year</th>\n",
       "      <th>qtr</th>\n",
       "      <th>fed_rate</th>\n",
       "      <th>10y3mo</th>\n",
       "      <th>bdi</th>\n",
       "      <th>r</th>\n",
       "    </tr>\n",
       "  </thead>\n",
       "  <tbody>\n",
       "    <tr>\n",
       "      <td>122</td>\n",
       "      <td>1985</td>\n",
       "      <td>1</td>\n",
       "      <td>8.476667</td>\n",
       "      <td>3.080984</td>\n",
       "      <td>978.0</td>\n",
       "      <td>0.0</td>\n",
       "    </tr>\n",
       "    <tr>\n",
       "      <td>124</td>\n",
       "      <td>1985</td>\n",
       "      <td>3</td>\n",
       "      <td>7.900000</td>\n",
       "      <td>3.025323</td>\n",
       "      <td>819.0</td>\n",
       "      <td>0.0</td>\n",
       "    </tr>\n",
       "    <tr>\n",
       "      <td>125</td>\n",
       "      <td>1985</td>\n",
       "      <td>4</td>\n",
       "      <td>8.103333</td>\n",
       "      <td>2.760635</td>\n",
       "      <td>820.0</td>\n",
       "      <td>0.0</td>\n",
       "    </tr>\n",
       "    <tr>\n",
       "      <td>127</td>\n",
       "      <td>1986</td>\n",
       "      <td>2</td>\n",
       "      <td>6.920000</td>\n",
       "      <td>1.368197</td>\n",
       "      <td>620.0</td>\n",
       "      <td>0.0</td>\n",
       "    </tr>\n",
       "    <tr>\n",
       "      <td>129</td>\n",
       "      <td>1986</td>\n",
       "      <td>4</td>\n",
       "      <td>6.266667</td>\n",
       "      <td>1.780469</td>\n",
       "      <td>748.0</td>\n",
       "      <td>0.0</td>\n",
       "    </tr>\n",
       "    <tr>\n",
       "      <td>130</td>\n",
       "      <td>1987</td>\n",
       "      <td>1</td>\n",
       "      <td>6.220000</td>\n",
       "      <td>1.794754</td>\n",
       "      <td>945.0</td>\n",
       "      <td>0.0</td>\n",
       "    </tr>\n",
       "    <tr>\n",
       "      <td>132</td>\n",
       "      <td>1987</td>\n",
       "      <td>3</td>\n",
       "      <td>6.843333</td>\n",
       "      <td>2.426154</td>\n",
       "      <td>1042.0</td>\n",
       "      <td>0.0</td>\n",
       "    </tr>\n",
       "    <tr>\n",
       "      <td>133</td>\n",
       "      <td>1987</td>\n",
       "      <td>4</td>\n",
       "      <td>6.916667</td>\n",
       "      <td>2.867541</td>\n",
       "      <td>1299.0</td>\n",
       "      <td>0.0</td>\n",
       "    </tr>\n",
       "    <tr>\n",
       "      <td>134</td>\n",
       "      <td>1988</td>\n",
       "      <td>1</td>\n",
       "      <td>6.663333</td>\n",
       "      <td>2.404833</td>\n",
       "      <td>1409.0</td>\n",
       "      <td>0.0</td>\n",
       "    </tr>\n",
       "    <tr>\n",
       "      <td>136</td>\n",
       "      <td>1988</td>\n",
       "      <td>3</td>\n",
       "      <td>7.983333</td>\n",
       "      <td>1.984603</td>\n",
       "      <td>1291.0</td>\n",
       "      <td>0.0</td>\n",
       "    </tr>\n",
       "  </tbody>\n",
       "</table>\n",
       "</div>"
      ],
      "text/plain": [
       "     year  qtr  fed_rate    10y3mo     bdi    r\n",
       "122  1985    1  8.476667  3.080984   978.0  0.0\n",
       "124  1985    3  7.900000  3.025323   819.0  0.0\n",
       "125  1985    4  8.103333  2.760635   820.0  0.0\n",
       "127  1986    2  6.920000  1.368197   620.0  0.0\n",
       "129  1986    4  6.266667  1.780469   748.0  0.0\n",
       "130  1987    1  6.220000  1.794754   945.0  0.0\n",
       "132  1987    3  6.843333  2.426154  1042.0  0.0\n",
       "133  1987    4  6.916667  2.867541  1299.0  0.0\n",
       "134  1988    1  6.663333  2.404833  1409.0  0.0\n",
       "136  1988    3  7.983333  1.984603  1291.0  0.0"
      ]
     },
     "execution_count": 50,
     "metadata": {},
     "output_type": "execute_result"
    }
   ],
   "source": [
    "dropna_merged_data[:10]"
   ]
  },
  {
   "cell_type": "code",
   "execution_count": 51,
   "metadata": {},
   "outputs": [],
   "source": [
    "dropna_merged_data.to_csv(r'data_all_quarterly.csv' ,index=False)"
   ]
  },
  {
   "cell_type": "code",
   "execution_count": null,
   "metadata": {},
   "outputs": [],
   "source": []
  },
  {
   "cell_type": "code",
   "execution_count": null,
   "metadata": {},
   "outputs": [],
   "source": []
  }
 ],
 "metadata": {
  "kernelspec": {
   "display_name": "Python 3",
   "language": "python",
   "name": "python3"
  },
  "language_info": {
   "codemirror_mode": {
    "name": "ipython",
    "version": 3
   },
   "file_extension": ".py",
   "mimetype": "text/x-python",
   "name": "python",
   "nbconvert_exporter": "python",
   "pygments_lexer": "ipython3",
   "version": "3.7.4"
  }
 },
 "nbformat": 4,
 "nbformat_minor": 2
}

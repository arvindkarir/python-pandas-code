{
 "cells": [
  {
   "cell_type": "markdown",
   "metadata": {},
   "source": [
    "https://www.techtrekking.com/getting-started-with-time-series-forecasting-with-prophet/\n",
    "\n",
    "Using fb prophet for time-series forecasting"
   ]
  },
  {
   "cell_type": "code",
   "execution_count": 3,
   "metadata": {},
   "outputs": [
    {
     "data": {
      "text/html": [
       "<style>.container { width:100% !important; }</style>"
      ],
      "text/plain": [
       "<IPython.core.display.HTML object>"
      ]
     },
     "metadata": {},
     "output_type": "display_data"
    }
   ],
   "source": [
    "# Importing datasets\n",
    "import pandas as pd\n",
    "import numpy as np\n",
    "from fbprophet import Prophet\n",
    "# Read train and test\n",
    "from IPython.core.display import display, HTML\n",
    "display(HTML(\"<style>.container { width:100% !important; }</style>\"))"
   ]
  },
  {
   "cell_type": "code",
   "execution_count": 4,
   "metadata": {},
   "outputs": [],
   "source": [
    "visitors = pd.read_csv(\"ppl_visit.csv\" )"
   ]
  },
  {
   "cell_type": "code",
   "execution_count": 5,
   "metadata": {},
   "outputs": [
    {
     "name": "stdout",
     "output_type": "stream",
     "text": [
      "<class 'pandas.core.frame.DataFrame'>\n",
      "RangeIndex: 90 entries, 0 to 89\n",
      "Data columns (total 2 columns):\n",
      "ds    90 non-null object\n",
      "y     90 non-null int64\n",
      "dtypes: int64(1), object(1)\n",
      "memory usage: 1.5+ KB\n"
     ]
    }
   ],
   "source": [
    "visitors.info()"
   ]
  },
  {
   "cell_type": "code",
   "execution_count": 6,
   "metadata": {
    "collapsed": true
   },
   "outputs": [
    {
     "data": {
      "text/plain": [
       "0    2017-12-01\n",
       "1    2017-12-02\n",
       "2    2017-12-03\n",
       "3    2017-12-04\n",
       "4    2017-12-05\n",
       "5    2017-12-06\n",
       "6    2017-12-07\n",
       "7    2017-12-08\n",
       "8    2017-12-09\n",
       "9    2017-12-10\n",
       "10   2017-12-11\n",
       "11   2017-12-12\n",
       "12   2017-12-13\n",
       "13   2017-12-14\n",
       "14   2017-12-15\n",
       "15   2017-12-16\n",
       "16   2017-12-17\n",
       "17   2017-12-18\n",
       "18   2017-12-19\n",
       "19   2017-12-20\n",
       "20   2017-12-21\n",
       "21   2017-12-22\n",
       "22   2017-12-23\n",
       "23   2017-12-24\n",
       "24   2017-12-25\n",
       "25   2017-12-26\n",
       "26   2017-12-27\n",
       "27   2017-12-28\n",
       "28   2017-12-29\n",
       "29   2017-12-30\n",
       "        ...    \n",
       "60   2018-01-30\n",
       "61   2018-01-31\n",
       "62   2018-02-01\n",
       "63   2018-02-02\n",
       "64   2018-02-03\n",
       "65   2018-02-04\n",
       "66   2018-02-05\n",
       "67   2018-02-06\n",
       "68   2018-02-07\n",
       "69   2018-02-08\n",
       "70   2018-02-09\n",
       "71   2018-02-10\n",
       "72   2018-02-11\n",
       "73   2018-02-12\n",
       "74   2018-02-13\n",
       "75   2018-02-14\n",
       "76   2018-02-15\n",
       "77   2018-02-16\n",
       "78   2018-02-17\n",
       "79   2018-02-18\n",
       "80   2018-02-19\n",
       "81   2018-02-20\n",
       "82   2018-02-21\n",
       "83   2018-02-22\n",
       "84   2018-02-23\n",
       "85   2018-02-24\n",
       "86   2018-02-25\n",
       "87   2018-02-26\n",
       "88   2018-02-27\n",
       "89   2018-02-28\n",
       "Name: ds, Length: 90, dtype: datetime64[ns]"
      ]
     },
     "execution_count": 6,
     "metadata": {},
     "output_type": "execute_result"
    }
   ],
   "source": [
    "pd.to_datetime(visitors['ds'], format='%Y-%m-%d')"
   ]
  },
  {
   "cell_type": "code",
   "execution_count": 7,
   "metadata": {
    "collapsed": true
   },
   "outputs": [
    {
     "data": {
      "text/html": [
       "<div>\n",
       "<style scoped>\n",
       "    .dataframe tbody tr th:only-of-type {\n",
       "        vertical-align: middle;\n",
       "    }\n",
       "\n",
       "    .dataframe tbody tr th {\n",
       "        vertical-align: top;\n",
       "    }\n",
       "\n",
       "    .dataframe thead th {\n",
       "        text-align: right;\n",
       "    }\n",
       "</style>\n",
       "<table border=\"1\" class=\"dataframe\">\n",
       "  <thead>\n",
       "    <tr style=\"text-align: right;\">\n",
       "      <th></th>\n",
       "      <th>ds</th>\n",
       "      <th>y</th>\n",
       "    </tr>\n",
       "  </thead>\n",
       "  <tbody>\n",
       "    <tr>\n",
       "      <th>0</th>\n",
       "      <td>2017-12-01</td>\n",
       "      <td>184439</td>\n",
       "    </tr>\n",
       "    <tr>\n",
       "      <th>1</th>\n",
       "      <td>2017-12-02</td>\n",
       "      <td>216527</td>\n",
       "    </tr>\n",
       "    <tr>\n",
       "      <th>2</th>\n",
       "      <td>2017-12-03</td>\n",
       "      <td>160727</td>\n",
       "    </tr>\n",
       "    <tr>\n",
       "      <th>3</th>\n",
       "      <td>2017-12-04</td>\n",
       "      <td>125297</td>\n",
       "    </tr>\n",
       "    <tr>\n",
       "      <th>4</th>\n",
       "      <td>2017-12-05</td>\n",
       "      <td>128117</td>\n",
       "    </tr>\n",
       "    <tr>\n",
       "      <th>5</th>\n",
       "      <td>2017-12-06</td>\n",
       "      <td>132590</td>\n",
       "    </tr>\n",
       "    <tr>\n",
       "      <th>6</th>\n",
       "      <td>2017-12-07</td>\n",
       "      <td>137210</td>\n",
       "    </tr>\n",
       "    <tr>\n",
       "      <th>7</th>\n",
       "      <td>2017-12-08</td>\n",
       "      <td>170921</td>\n",
       "    </tr>\n",
       "    <tr>\n",
       "      <th>8</th>\n",
       "      <td>2017-12-09</td>\n",
       "      <td>217437</td>\n",
       "    </tr>\n",
       "    <tr>\n",
       "      <th>9</th>\n",
       "      <td>2017-12-10</td>\n",
       "      <td>176270</td>\n",
       "    </tr>\n",
       "    <tr>\n",
       "      <th>10</th>\n",
       "      <td>2017-12-11</td>\n",
       "      <td>135787</td>\n",
       "    </tr>\n",
       "    <tr>\n",
       "      <th>11</th>\n",
       "      <td>2017-12-12</td>\n",
       "      <td>128423</td>\n",
       "    </tr>\n",
       "    <tr>\n",
       "      <th>12</th>\n",
       "      <td>2017-12-13</td>\n",
       "      <td>146298</td>\n",
       "    </tr>\n",
       "    <tr>\n",
       "      <th>13</th>\n",
       "      <td>2017-12-14</td>\n",
       "      <td>150791</td>\n",
       "    </tr>\n",
       "    <tr>\n",
       "      <th>14</th>\n",
       "      <td>2017-12-15</td>\n",
       "      <td>186876</td>\n",
       "    </tr>\n",
       "    <tr>\n",
       "      <th>15</th>\n",
       "      <td>2017-12-16</td>\n",
       "      <td>242082</td>\n",
       "    </tr>\n",
       "    <tr>\n",
       "      <th>16</th>\n",
       "      <td>2017-12-17</td>\n",
       "      <td>247496</td>\n",
       "    </tr>\n",
       "    <tr>\n",
       "      <th>17</th>\n",
       "      <td>2017-12-18</td>\n",
       "      <td>171777</td>\n",
       "    </tr>\n",
       "    <tr>\n",
       "      <th>18</th>\n",
       "      <td>2017-12-19</td>\n",
       "      <td>187293</td>\n",
       "    </tr>\n",
       "    <tr>\n",
       "      <th>19</th>\n",
       "      <td>2017-12-20</td>\n",
       "      <td>189156</td>\n",
       "    </tr>\n",
       "    <tr>\n",
       "      <th>20</th>\n",
       "      <td>2017-12-21</td>\n",
       "      <td>199467</td>\n",
       "    </tr>\n",
       "    <tr>\n",
       "      <th>21</th>\n",
       "      <td>2017-12-22</td>\n",
       "      <td>227221</td>\n",
       "    </tr>\n",
       "    <tr>\n",
       "      <th>22</th>\n",
       "      <td>2017-12-23</td>\n",
       "      <td>246703</td>\n",
       "    </tr>\n",
       "    <tr>\n",
       "      <th>23</th>\n",
       "      <td>2017-12-24</td>\n",
       "      <td>159238</td>\n",
       "    </tr>\n",
       "    <tr>\n",
       "      <th>24</th>\n",
       "      <td>2017-12-25</td>\n",
       "      <td>5477</td>\n",
       "    </tr>\n",
       "    <tr>\n",
       "      <th>25</th>\n",
       "      <td>2017-12-26</td>\n",
       "      <td>448462</td>\n",
       "    </tr>\n",
       "    <tr>\n",
       "      <th>26</th>\n",
       "      <td>2017-12-27</td>\n",
       "      <td>253065</td>\n",
       "    </tr>\n",
       "    <tr>\n",
       "      <th>27</th>\n",
       "      <td>2017-12-28</td>\n",
       "      <td>239056</td>\n",
       "    </tr>\n",
       "    <tr>\n",
       "      <th>28</th>\n",
       "      <td>2017-12-29</td>\n",
       "      <td>219689</td>\n",
       "    </tr>\n",
       "    <tr>\n",
       "      <th>29</th>\n",
       "      <td>2017-12-30</td>\n",
       "      <td>239457</td>\n",
       "    </tr>\n",
       "    <tr>\n",
       "      <th>...</th>\n",
       "      <td>...</td>\n",
       "      <td>...</td>\n",
       "    </tr>\n",
       "    <tr>\n",
       "      <th>60</th>\n",
       "      <td>2018-01-30</td>\n",
       "      <td>104504</td>\n",
       "    </tr>\n",
       "    <tr>\n",
       "      <th>61</th>\n",
       "      <td>2018-01-31</td>\n",
       "      <td>103089</td>\n",
       "    </tr>\n",
       "    <tr>\n",
       "      <th>62</th>\n",
       "      <td>2018-02-01</td>\n",
       "      <td>113258</td>\n",
       "    </tr>\n",
       "    <tr>\n",
       "      <th>63</th>\n",
       "      <td>2018-02-02</td>\n",
       "      <td>144099</td>\n",
       "    </tr>\n",
       "    <tr>\n",
       "      <th>64</th>\n",
       "      <td>2018-02-03</td>\n",
       "      <td>178394</td>\n",
       "    </tr>\n",
       "    <tr>\n",
       "      <th>65</th>\n",
       "      <td>2018-02-04</td>\n",
       "      <td>115801</td>\n",
       "    </tr>\n",
       "    <tr>\n",
       "      <th>66</th>\n",
       "      <td>2018-02-05</td>\n",
       "      <td>96983</td>\n",
       "    </tr>\n",
       "    <tr>\n",
       "      <th>67</th>\n",
       "      <td>2018-02-06</td>\n",
       "      <td>102283</td>\n",
       "    </tr>\n",
       "    <tr>\n",
       "      <th>68</th>\n",
       "      <td>2018-02-07</td>\n",
       "      <td>84207</td>\n",
       "    </tr>\n",
       "    <tr>\n",
       "      <th>69</th>\n",
       "      <td>2018-02-08</td>\n",
       "      <td>105538</td>\n",
       "    </tr>\n",
       "    <tr>\n",
       "      <th>70</th>\n",
       "      <td>2018-02-09</td>\n",
       "      <td>120207</td>\n",
       "    </tr>\n",
       "    <tr>\n",
       "      <th>71</th>\n",
       "      <td>2018-02-10</td>\n",
       "      <td>162717</td>\n",
       "    </tr>\n",
       "    <tr>\n",
       "      <th>72</th>\n",
       "      <td>2018-02-11</td>\n",
       "      <td>126297</td>\n",
       "    </tr>\n",
       "    <tr>\n",
       "      <th>73</th>\n",
       "      <td>2018-02-12</td>\n",
       "      <td>104469</td>\n",
       "    </tr>\n",
       "    <tr>\n",
       "      <th>74</th>\n",
       "      <td>2018-02-13</td>\n",
       "      <td>115564</td>\n",
       "    </tr>\n",
       "    <tr>\n",
       "      <th>75</th>\n",
       "      <td>2018-02-14</td>\n",
       "      <td>142942</td>\n",
       "    </tr>\n",
       "    <tr>\n",
       "      <th>76</th>\n",
       "      <td>2018-02-15</td>\n",
       "      <td>118777</td>\n",
       "    </tr>\n",
       "    <tr>\n",
       "      <th>77</th>\n",
       "      <td>2018-02-16</td>\n",
       "      <td>182492</td>\n",
       "    </tr>\n",
       "    <tr>\n",
       "      <th>78</th>\n",
       "      <td>2018-02-17</td>\n",
       "      <td>226138</td>\n",
       "    </tr>\n",
       "    <tr>\n",
       "      <th>79</th>\n",
       "      <td>2018-02-18</td>\n",
       "      <td>188119</td>\n",
       "    </tr>\n",
       "    <tr>\n",
       "      <th>80</th>\n",
       "      <td>2018-02-19</td>\n",
       "      <td>51868</td>\n",
       "    </tr>\n",
       "    <tr>\n",
       "      <th>81</th>\n",
       "      <td>2018-02-20</td>\n",
       "      <td>126566</td>\n",
       "    </tr>\n",
       "    <tr>\n",
       "      <th>82</th>\n",
       "      <td>2018-02-21</td>\n",
       "      <td>120669</td>\n",
       "    </tr>\n",
       "    <tr>\n",
       "      <th>83</th>\n",
       "      <td>2018-02-22</td>\n",
       "      <td>118674</td>\n",
       "    </tr>\n",
       "    <tr>\n",
       "      <th>84</th>\n",
       "      <td>2018-02-23</td>\n",
       "      <td>140293</td>\n",
       "    </tr>\n",
       "    <tr>\n",
       "      <th>85</th>\n",
       "      <td>2018-02-24</td>\n",
       "      <td>196843</td>\n",
       "    </tr>\n",
       "    <tr>\n",
       "      <th>86</th>\n",
       "      <td>2018-02-25</td>\n",
       "      <td>147036</td>\n",
       "    </tr>\n",
       "    <tr>\n",
       "      <th>87</th>\n",
       "      <td>2018-02-26</td>\n",
       "      <td>100514</td>\n",
       "    </tr>\n",
       "    <tr>\n",
       "      <th>88</th>\n",
       "      <td>2018-02-27</td>\n",
       "      <td>106592</td>\n",
       "    </tr>\n",
       "    <tr>\n",
       "      <th>89</th>\n",
       "      <td>2018-02-28</td>\n",
       "      <td>53732</td>\n",
       "    </tr>\n",
       "  </tbody>\n",
       "</table>\n",
       "<p>90 rows × 2 columns</p>\n",
       "</div>"
      ],
      "text/plain": [
       "            ds       y\n",
       "0   2017-12-01  184439\n",
       "1   2017-12-02  216527\n",
       "2   2017-12-03  160727\n",
       "3   2017-12-04  125297\n",
       "4   2017-12-05  128117\n",
       "5   2017-12-06  132590\n",
       "6   2017-12-07  137210\n",
       "7   2017-12-08  170921\n",
       "8   2017-12-09  217437\n",
       "9   2017-12-10  176270\n",
       "10  2017-12-11  135787\n",
       "11  2017-12-12  128423\n",
       "12  2017-12-13  146298\n",
       "13  2017-12-14  150791\n",
       "14  2017-12-15  186876\n",
       "15  2017-12-16  242082\n",
       "16  2017-12-17  247496\n",
       "17  2017-12-18  171777\n",
       "18  2017-12-19  187293\n",
       "19  2017-12-20  189156\n",
       "20  2017-12-21  199467\n",
       "21  2017-12-22  227221\n",
       "22  2017-12-23  246703\n",
       "23  2017-12-24  159238\n",
       "24  2017-12-25    5477\n",
       "25  2017-12-26  448462\n",
       "26  2017-12-27  253065\n",
       "27  2017-12-28  239056\n",
       "28  2017-12-29  219689\n",
       "29  2017-12-30  239457\n",
       "..         ...     ...\n",
       "60  2018-01-30  104504\n",
       "61  2018-01-31  103089\n",
       "62  2018-02-01  113258\n",
       "63  2018-02-02  144099\n",
       "64  2018-02-03  178394\n",
       "65  2018-02-04  115801\n",
       "66  2018-02-05   96983\n",
       "67  2018-02-06  102283\n",
       "68  2018-02-07   84207\n",
       "69  2018-02-08  105538\n",
       "70  2018-02-09  120207\n",
       "71  2018-02-10  162717\n",
       "72  2018-02-11  126297\n",
       "73  2018-02-12  104469\n",
       "74  2018-02-13  115564\n",
       "75  2018-02-14  142942\n",
       "76  2018-02-15  118777\n",
       "77  2018-02-16  182492\n",
       "78  2018-02-17  226138\n",
       "79  2018-02-18  188119\n",
       "80  2018-02-19   51868\n",
       "81  2018-02-20  126566\n",
       "82  2018-02-21  120669\n",
       "83  2018-02-22  118674\n",
       "84  2018-02-23  140293\n",
       "85  2018-02-24  196843\n",
       "86  2018-02-25  147036\n",
       "87  2018-02-26  100514\n",
       "88  2018-02-27  106592\n",
       "89  2018-02-28   53732\n",
       "\n",
       "[90 rows x 2 columns]"
      ]
     },
     "execution_count": 7,
     "metadata": {},
     "output_type": "execute_result"
    }
   ],
   "source": [
    "visitors"
   ]
  },
  {
   "cell_type": "code",
   "execution_count": 8,
   "metadata": {},
   "outputs": [
    {
     "name": "stderr",
     "output_type": "stream",
     "text": [
      "INFO:fbprophet:Disabling yearly seasonality. Run prophet with yearly_seasonality=True to override this.\n",
      "INFO:fbprophet:Disabling daily seasonality. Run prophet with daily_seasonality=True to override this.\n"
     ]
    },
    {
     "data": {
      "text/plain": [
       "<fbprophet.forecaster.Prophet at 0xd97bf60>"
      ]
     },
     "execution_count": 8,
     "metadata": {},
     "output_type": "execute_result"
    }
   ],
   "source": [
    "m = Prophet()\n",
    "m.fit(visitors)"
   ]
  },
  {
   "cell_type": "code",
   "execution_count": 9,
   "metadata": {},
   "outputs": [
    {
     "name": "stdout",
     "output_type": "stream",
     "text": [
      "type of m <class 'fbprophet.forecaster.Prophet'>\n"
     ]
    }
   ],
   "source": [
    "print(\"type of m\" , type(m))"
   ]
  },
  {
   "cell_type": "code",
   "execution_count": 10,
   "metadata": {},
   "outputs": [
    {
     "name": "stdout",
     "output_type": "stream",
     "text": [
      "type of future <class 'pandas.core.frame.DataFrame'>\n"
     ]
    }
   ],
   "source": [
    "### Extending data to few future dates\n",
    "future = m.make_future_dataframe(periods=60)\n",
    "print(\"type of future\" , type(future))"
   ]
  },
  {
   "cell_type": "code",
   "execution_count": 11,
   "metadata": {},
   "outputs": [
    {
     "name": "stdout",
     "output_type": "stream",
     "text": [
      "type of forecast <class 'pandas.core.frame.DataFrame'>\n"
     ]
    }
   ],
   "source": [
    "### The predict method will assign each row in future a predicted value which it names yhat\n",
    "forecast = m.predict(future)\n",
    "print(\"type of forecast\" , type(future))\n",
    "# print(forecast[['ds', 'yhat', 'yhat_lower', 'yhat_upper']].tail())"
   ]
  },
  {
   "cell_type": "code",
   "execution_count": 12,
   "metadata": {},
   "outputs": [
    {
     "data": {
      "image/png": "[encoded data removed]",
      "text/plain": [
       "<Figure size 720x432 with 1 Axes>"
      ]
     },
     "metadata": {},
     "output_type": "display_data"
    }
   ],
   "source": [
    "### Plotting forecast\n",
    "fig1 = m.plot(forecast)\n",
    "# fig1.show()\n",
    "fig1.savefig('01_fbprophet_getting_started-01.png')"
   ]
  },
  {
   "cell_type": "code",
   "execution_count": 13,
   "metadata": {},
   "outputs": [
    {
     "data": {
      "image/png": "[encoded data removed]",
      "text/plain": [
       "<Figure size 648x432 with 2 Axes>"
      ]
     },
     "metadata": {},
     "output_type": "display_data"
    }
   ],
   "source": [
    "### Plotting forecast components\n",
    "fig2 = m.plot_components(forecast)\n",
    "fig2.savefig('01_fbprophet_getting_started-02.png')"
   ]
  },
  {
   "cell_type": "code",
   "execution_count": 14,
   "metadata": {},
   "outputs": [],
   "source": [
    "### Saving output excel\n",
    "forecast.to_csv('example_2.csv', sep=',')"
   ]
  },
  {
   "cell_type": "code",
   "execution_count": 16,
   "metadata": {},
   "outputs": [
    {
     "name": "stdout",
     "output_type": "stream",
     "text": [
      "*** Program Completed ***\n"
     ]
    }
   ],
   "source": [
    "print('*** Program Completed ***')"
   ]
  },
  {
   "cell_type": "code",
   "execution_count": null,
   "metadata": {},
   "outputs": [],
   "source": []
  },
  {
   "cell_type": "code",
   "execution_count": null,
   "metadata": {},
   "outputs": [],
   "source": []
  },
  {
   "cell_type": "code",
   "execution_count": null,
   "metadata": {},
   "outputs": [],
   "source": []
  },
  {
   "cell_type": "code",
   "execution_count": null,
   "metadata": {},
   "outputs": [],
   "source": []
  },
  {
   "cell_type": "code",
   "execution_count": null,
   "metadata": {},
   "outputs": [],
   "source": []
  },
  {
   "cell_type": "code",
   "execution_count": null,
   "metadata": {},
   "outputs": [],
   "source": []
  },
  {
   "cell_type": "code",
   "execution_count": null,
   "metadata": {},
   "outputs": [],
   "source": []
  },
  {
   "cell_type": "code",
   "execution_count": null,
   "metadata": {},
   "outputs": [],
   "source": []
  },
  {
   "cell_type": "code",
   "execution_count": null,
   "metadata": {},
   "outputs": [],
   "source": []
  },
  {
   "cell_type": "code",
   "execution_count": null,
   "metadata": {},
   "outputs": [],
   "source": []
  },
  {
   "cell_type": "code",
   "execution_count": null,
   "metadata": {},
   "outputs": [],
   "source": []
  },
  {
   "cell_type": "code",
   "execution_count": null,
   "metadata": {},
   "outputs": [],
   "source": []
  },
  {
   "cell_type": "code",
   "execution_count": null,
   "metadata": {},
   "outputs": [],
   "source": []
  },
  {
   "cell_type": "code",
   "execution_count": 17,
   "metadata": {},
   "outputs": [
    {
     "data": {
      "text/html": [
       "<div>\n",
       "<style scoped>\n",
       "    .dataframe tbody tr th:only-of-type {\n",
       "        vertical-align: middle;\n",
       "    }\n",
       "\n",
       "    .dataframe tbody tr th {\n",
       "        vertical-align: top;\n",
       "    }\n",
       "\n",
       "    .dataframe thead th {\n",
       "        text-align: right;\n",
       "    }\n",
       "</style>\n",
       "<table border=\"1\" class=\"dataframe\">\n",
       "  <thead>\n",
       "    <tr style=\"text-align: right;\">\n",
       "      <th></th>\n",
       "      <th>dateok</th>\n",
       "      <th>dwell00</th>\n",
       "      <th>date_to_format</th>\n",
       "      <th>date</th>\n",
       "    </tr>\n",
       "  </thead>\n",
       "  <tbody>\n",
       "    <tr>\n",
       "      <td>0</td>\n",
       "      <td>2017-12-01 20:01:20</td>\n",
       "      <td>10</td>\n",
       "      <td>2017-12-01 20:01:20</td>\n",
       "      <td>2017-12-01</td>\n",
       "    </tr>\n",
       "    <tr>\n",
       "      <td>1</td>\n",
       "      <td>2017-12-01 20:01:40</td>\n",
       "      <td>2</td>\n",
       "      <td>2017-12-01 20:01:40</td>\n",
       "      <td>2017-12-01</td>\n",
       "    </tr>\n",
       "    <tr>\n",
       "      <td>2</td>\n",
       "      <td>2017-12-01 20:02:20</td>\n",
       "      <td>0</td>\n",
       "      <td>2017-12-01 20:02:20</td>\n",
       "      <td>2017-12-01</td>\n",
       "    </tr>\n",
       "    <tr>\n",
       "      <td>3</td>\n",
       "      <td>2017-12-01 20:02:50</td>\n",
       "      <td>2</td>\n",
       "      <td>2017-12-01 20:02:50</td>\n",
       "      <td>2017-12-01</td>\n",
       "    </tr>\n",
       "    <tr>\n",
       "      <td>4</td>\n",
       "      <td>2017-12-01 20:03:30</td>\n",
       "      <td>1</td>\n",
       "      <td>2017-12-01 20:03:30</td>\n",
       "      <td>2017-12-01</td>\n",
       "    </tr>\n",
       "  </tbody>\n",
       "</table>\n",
       "</div>"
      ],
      "text/plain": [
       "                dateok  dwell00      date_to_format        date\n",
       "0  2017-12-01 20:01:20       10 2017-12-01 20:01:20  2017-12-01\n",
       "1  2017-12-01 20:01:40        2 2017-12-01 20:01:40  2017-12-01\n",
       "2  2017-12-01 20:02:20        0 2017-12-01 20:02:20  2017-12-01\n",
       "3  2017-12-01 20:02:50        2 2017-12-01 20:02:50  2017-12-01\n",
       "4  2017-12-01 20:03:30        1 2017-12-01 20:03:30  2017-12-01"
      ]
     },
     "execution_count": 17,
     "metadata": {},
     "output_type": "execute_result"
    }
   ],
   "source": [
    "by_date.head()"
   ]
  },
  {
   "cell_type": "code",
   "execution_count": null,
   "metadata": {},
   "outputs": [],
   "source": []
  },
  {
   "cell_type": "code",
   "execution_count": null,
   "metadata": {},
   "outputs": [],
   "source": []
  },
  {
   "cell_type": "code",
   "execution_count": 18,
   "metadata": {},
   "outputs": [
    {
     "ename": "NameError",
     "evalue": "name 'cust_journey' is not defined",
     "output_type": "error",
     "traceback": [
      "\u001b[0;31m---------------------------------------------------------------------------\u001b[0m",
      "\u001b[0;31mNameError\u001b[0m                                 Traceback (most recent call last)",
      "\u001b[0;32m<ipython-input-18-a717559faec7>\u001b[0m in \u001b[0;36m<module>\u001b[0;34m\u001b[0m\n\u001b[1;32m      1\u001b[0m \u001b[0;31m# I think I want to group by date, time and STORE/OTHER time for dwell00\u001b[0m\u001b[0;34m\u001b[0m\u001b[0;34m\u001b[0m\u001b[0;34m\u001b[0m\u001b[0m\n\u001b[0;32m----> 2\u001b[0;31m \u001b[0mby_date_dwell00\u001b[0m \u001b[0;34m=\u001b[0m \u001b[0mcust_journey\u001b[0m\u001b[0;34m.\u001b[0m\u001b[0mgroupby\u001b[0m\u001b[0;34m(\u001b[0m\u001b[0;34m[\u001b[0m\u001b[0;34m'dateok'\u001b[0m\u001b[0;34m]\u001b[0m\u001b[0;34m,\u001b[0m \u001b[0mas_index\u001b[0m \u001b[0;34m=\u001b[0m \u001b[0;32mFalse\u001b[0m\u001b[0;34m)\u001b[0m\u001b[0;34m[\u001b[0m\u001b[0;34m[\u001b[0m\u001b[0;34m'dwell00'\u001b[0m\u001b[0;34m]\u001b[0m\u001b[0;34m]\u001b[0m\u001b[0;34m.\u001b[0m\u001b[0msum\u001b[0m\u001b[0;34m(\u001b[0m\u001b[0;34m)\u001b[0m\u001b[0;34m\u001b[0m\u001b[0;34m\u001b[0m\u001b[0m\n\u001b[0m\u001b[1;32m      3\u001b[0m \u001b[0;31m# even adding the list of lists did not yield df\u001b[0m\u001b[0;34m\u001b[0m\u001b[0;34m\u001b[0m\u001b[0;34m\u001b[0m\u001b[0m\n\u001b[1;32m      4\u001b[0m \u001b[0;31m#by_hour = cust_journey.groupby('hour').mean()\u001b[0m\u001b[0;34m\u001b[0m\u001b[0;34m\u001b[0m\u001b[0;34m\u001b[0m\u001b[0m\n",
      "\u001b[0;31mNameError\u001b[0m: name 'cust_journey' is not defined"
     ]
    }
   ],
   "source": [
    "# I think I want to group by date, time and STORE/OTHER time for dwell00\n",
    "by_date_dwell00 = cust_journey.groupby(['dateok'], as_index = False)[['dwell00']].sum()\n",
    "# even adding the list of lists did not yield df\n",
    "#by_hour = cust_journey.groupby('hour').mean()"
   ]
  },
  {
   "cell_type": "code",
   "execution_count": null,
   "metadata": {},
   "outputs": [],
   "source": [
    "type(by_date_dwell00)"
   ]
  },
  {
   "cell_type": "code",
   "execution_count": null,
   "metadata": {},
   "outputs": [],
   "source": [
    "by_date_dwell00['date'] = by_date_dwell00.dateok.dt.date\n",
    "by_date_dwell00['y'] = by_date_dwell00.dateok.dt.date"
   ]
  },
  {
   "cell_type": "code",
   "execution_count": null,
   "metadata": {},
   "outputs": [],
   "source": [
    "by_date_dwell00.drop('dateok', axis=1, inplace=True)"
   ]
  },
  {
   "cell_type": "code",
   "execution_count": null,
   "metadata": {},
   "outputs": [],
   "source": [
    "reorder_by_date_dwell00 = by_date_dwell00[['date', 'dwell00']]"
   ]
  },
  {
   "cell_type": "code",
   "execution_count": null,
   "metadata": {},
   "outputs": [],
   "source": [
    "reorder_by_date_dwell00"
   ]
  },
  {
   "cell_type": "code",
   "execution_count": null,
   "metadata": {},
   "outputs": [],
   "source": [
    "reorder_by_date_dwell00.rename(columns={'date': 'ds', 'dwell00': 'y'})"
   ]
  },
  {
   "cell_type": "code",
   "execution_count": null,
   "metadata": {},
   "outputs": [],
   "source": [
    "df = reorder_by_date_dwell00.reset_index().rename(columns={'ds':'ds', 'y':'y'})"
   ]
  },
  {
   "cell_type": "code",
   "execution_count": null,
   "metadata": {},
   "outputs": [],
   "source": [
    "df.index.dtype"
   ]
  },
  {
   "cell_type": "code",
   "execution_count": null,
   "metadata": {},
   "outputs": [],
   "source": [
    "# let's start with prophet now\n",
    "m = Prophet()\n",
    "m.fit(df)"
   ]
  },
  {
   "cell_type": "code",
   "execution_count": null,
   "metadata": {},
   "outputs": [],
   "source": []
  },
  {
   "cell_type": "code",
   "execution_count": null,
   "metadata": {},
   "outputs": [],
   "source": []
  },
  {
   "cell_type": "code",
   "execution_count": null,
   "metadata": {},
   "outputs": [],
   "source": []
  },
  {
   "cell_type": "code",
   "execution_count": null,
   "metadata": {},
   "outputs": [],
   "source": []
  },
  {
   "cell_type": "code",
   "execution_count": null,
   "metadata": {},
   "outputs": [],
   "source": [
    "by_date.to_csv(\"by_date.csv\", index = True)"
   ]
  },
  {
   "cell_type": "code",
   "execution_count": null,
   "metadata": {},
   "outputs": [],
   "source": [
    "# extract just two cols for now and reset the date as it was the index\n",
    "by_date_dwell00 = by_date[['dwell00']]\n",
    "by_date_dwell00.reset_index(inplace=True)"
   ]
  },
  {
   "cell_type": "code",
   "execution_count": null,
   "metadata": {},
   "outputs": [],
   "source": [
    "by_date_dwell00.rename(columns={'Date': 'DS', 'dwell00': 'Y'})"
   ]
  },
  {
   "cell_type": "code",
   "execution_count": null,
   "metadata": {},
   "outputs": [],
   "source": [
    "df = pd.DataFrame([by_date_dwell00])"
   ]
  },
  {
   "cell_type": "code",
   "execution_count": null,
   "metadata": {},
   "outputs": [],
   "source": [
    "df.dtypes()"
   ]
  },
  {
   "cell_type": "code",
   "execution_count": null,
   "metadata": {},
   "outputs": [],
   "source": []
  },
  {
   "cell_type": "code",
   "execution_count": null,
   "metadata": {},
   "outputs": [],
   "source": []
  },
  {
   "cell_type": "code",
   "execution_count": null,
   "metadata": {},
   "outputs": [],
   "source": []
  },
  {
   "cell_type": "code",
   "execution_count": null,
   "metadata": {},
   "outputs": [],
   "source": [
    "# transpose experiment - doesn't help for prophet\n",
    "by_dwell = by_date.transpose()\n",
    "by_dwell"
   ]
  },
  {
   "cell_type": "code",
   "execution_count": null,
   "metadata": {},
   "outputs": [],
   "source": []
  },
  {
   "cell_type": "code",
   "execution_count": null,
   "metadata": {},
   "outputs": [],
   "source": [
    "cust_journey['dateok'] = pd.to_datetime(cust_journey.Date,format='%Y-%m-%d %H:%M:%S')"
   ]
  },
  {
   "cell_type": "code",
   "execution_count": null,
   "metadata": {},
   "outputs": [],
   "source": [
    "cust_journey['hour'] = cust_journey.hod"
   ]
  },
  {
   "cell_type": "code",
   "execution_count": null,
   "metadata": {},
   "outputs": [],
   "source": [
    "# Calculate average hourly fraction\n",
    "hourly_frac = cust_journey.groupby(['hour']).mean()/np.sum(cust_journey.groupby(['hour']).mean())"
   ]
  },
  {
   "cell_type": "code",
   "execution_count": null,
   "metadata": {},
   "outputs": [],
   "source": [
    "cust_journey.head()"
   ]
  },
  {
   "cell_type": "code",
   "execution_count": null,
   "metadata": {},
   "outputs": [],
   "source": [
    "hourly_frac[10:]"
   ]
  },
  {
   "cell_type": "code",
   "execution_count": null,
   "metadata": {},
   "outputs": [],
   "source": []
  },
  {
   "cell_type": "code",
   "execution_count": null,
   "metadata": {},
   "outputs": [],
   "source": []
  },
  {
   "cell_type": "code",
   "execution_count": null,
   "metadata": {},
   "outputs": [],
   "source": []
  },
  {
   "cell_type": "code",
   "execution_count": null,
   "metadata": {},
   "outputs": [],
   "source": []
  }
 ],
 "metadata": {
  "kernelspec": {
   "display_name": "Python 3",
   "language": "python",
   "name": "python3"
  },
  "language_info": {
   "codemirror_mode": {
    "name": "ipython",
    "version": 3
   },
   "file_extension": ".py",
   "mimetype": "text/x-python",
   "name": "python",
   "nbconvert_exporter": "python",
   "pygments_lexer": "ipython3",
   "version": "3.6.9"
  }
 },
 "nbformat": 4,
 "nbformat_minor": 2
}

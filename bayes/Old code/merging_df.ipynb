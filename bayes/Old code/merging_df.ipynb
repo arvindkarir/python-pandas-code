{
 "cells": [
  {
   "cell_type": "markdown",
   "metadata": {},
   "source": [
    "Merging dataframes"
   ]
  },
  {
   "cell_type": "code",
   "execution_count": 24,
   "metadata": {},
   "outputs": [],
   "source": [
    "import pandas as pd"
   ]
  },
  {
   "cell_type": "code",
   "execution_count": 25,
   "metadata": {},
   "outputs": [
    {
     "name": "stdout",
     "output_type": "stream",
     "text": [
      "     Name  Age chr1\n",
      "0    Alex   10   aa\n",
      "1     Bob   12   bb\n",
      "2  Clarke   13   cc\n",
      "3    Alex    9  aaa\n"
     ]
    }
   ],
   "source": [
    "data = [['Alex',10, 'aa'],['Bob',12, 'bb'],['Clarke',13, 'cc'], ['Alex', 9, 'aaa']]\n",
    "df1 = pd.DataFrame(data,columns=['Name','Age', 'chr1'])\n",
    "print(df1)"
   ]
  },
  {
   "cell_type": "code",
   "execution_count": 26,
   "metadata": {},
   "outputs": [
    {
     "name": "stdout",
     "output_type": "stream",
     "text": [
      "     Name  Age chr2\n",
      "0    Alex    9  aam\n",
      "1     Bob   11  bbm\n",
      "2  Clarke   13  ccm\n"
     ]
    }
   ],
   "source": [
    "data2 = [['Alex',9, 'aam'],['Bob',11, 'bbm'],['Clarke',13, 'ccm']]\n",
    "df2 = pd.DataFrame(data2,columns=['Name','Age', 'chr2'])\n",
    "print(df2)"
   ]
  },
  {
   "cell_type": "code",
   "execution_count": 32,
   "metadata": {},
   "outputs": [
    {
     "name": "stdout",
     "output_type": "stream",
     "text": [
      "     Name  Age chr1 chr2\n",
      "0    Alex   10   aa  NaN\n",
      "1     Bob   12   bb  NaN\n",
      "2  Clarke   13   cc  ccm\n",
      "3    Alex    9  aaa  aam\n"
     ]
    }
   ],
   "source": [
    "merged = df1.merge(df2, on=['Name', 'Age'], how = 'left')\n",
    "\n",
    "print(merged)"
   ]
  },
  {
   "cell_type": "code",
   "execution_count": null,
   "metadata": {},
   "outputs": [],
   "source": []
  },
  {
   "cell_type": "code",
   "execution_count": null,
   "metadata": {},
   "outputs": [],
   "source": []
  },
  {
   "cell_type": "code",
   "execution_count": null,
   "metadata": {},
   "outputs": [],
   "source": []
  },
  {
   "cell_type": "code",
   "execution_count": null,
   "metadata": {},
   "outputs": [],
   "source": []
  },
  {
   "cell_type": "code",
   "execution_count": null,
   "metadata": {},
   "outputs": [],
   "source": []
  },
  {
   "cell_type": "code",
   "execution_count": null,
   "metadata": {},
   "outputs": [],
   "source": []
  },
  {
   "cell_type": "code",
   "execution_count": null,
   "metadata": {},
   "outputs": [],
   "source": []
  }
 ],
 "metadata": {
  "kernelspec": {
   "display_name": "Python 3",
   "language": "python",
   "name": "python3"
  },
  "language_info": {
   "codemirror_mode": {
    "name": "ipython",
    "version": 3
   },
   "file_extension": ".py",
   "mimetype": "text/x-python",
   "name": "python",
   "nbconvert_exporter": "python",
   "pygments_lexer": "ipython3",
   "version": "3.6.9"
  }
 },
 "nbformat": 4,
 "nbformat_minor": 2
}

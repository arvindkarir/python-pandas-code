{
 "cells": [
  {
   "cell_type": "code",
   "execution_count": 124,
   "metadata": {},
   "outputs": [],
   "source": [
    "import random\n",
    "import numpy as np\n",
    "import matplotlib.pyplot as plt\n",
    "%matplotlib inline\n",
    "from scipy.stats import uniform\n",
    "from scipy.stats import expon\n",
    "import seaborn as sns\n",
    "sns.set(color_codes=True)\n",
    "sns.set(rc={'figure.figsize':(5,5)})"
   ]
  },
  {
   "cell_type": "code",
   "execution_count": 188,
   "metadata": {},
   "outputs": [],
   "source": [
    "n = 4"
   ]
  },
  {
   "cell_type": "code",
   "execution_count": 189,
   "metadata": {},
   "outputs": [],
   "source": [
    "# Total life exponential distribution\n",
    "total_life = expon.rvs(scale=10.00,loc=0,size=n)\n",
    "total_life = total_life[(total_life>1)&(total_life<85)]\n",
    "life_limit = max(total_life)"
   ]
  },
  {
   "cell_type": "code",
   "execution_count": 190,
   "metadata": {},
   "outputs": [
    {
     "name": "stdout",
     "output_type": "stream",
     "text": [
      "[  5.86392705  10.46979079  10.04521267   2.1093811 ] 10.4697907857\n"
     ]
    }
   ],
   "source": [
    "print(total_life, life_limit)"
   ]
  },
  {
   "cell_type": "code",
   "execution_count": 191,
   "metadata": {},
   "outputs": [
    {
     "data": {
      "image/png": "[encoded data removed]",
      "text/plain": [
       "<matplotlib.figure.Figure at 0xfec9b38>"
      ]
     },
     "metadata": {},
     "output_type": "display_data"
    }
   ],
   "source": [
    "ax = sns.distplot(total_life,\n",
    "                  bins=n,\n",
    "                  kde=True,\n",
    "                  color='skyblue',\n",
    "                  hist_kws={\"linewidth\": 1,'alpha':1})\n",
    "ax.set(xlabel='Exponential Distribution ', ylabel='Frequency')\n",
    "plt.show()"
   ]
  },
  {
   "cell_type": "markdown",
   "metadata": {},
   "source": [
    "# For random age distribution\n",
    "random_age = uniform.rvs(size=n, loc = 0, scale= life_limit)"
   ]
  },
  {
   "cell_type": "code",
   "execution_count": 198,
   "metadata": {},
   "outputs": [
    {
     "name": "stdout",
     "output_type": "stream",
     "text": [
      "5.86392705329 10.0710465061 [-4.2071194528431146]\n",
      "10.4697907857 6.29734030423 [-4.2071194528431146, 4.1724504814668189]\n",
      "10.045212673 2.9141975444 [-4.2071194528431146, 4.1724504814668189, 7.1310151286359886]\n",
      "2.10938109832 1.0604109123 [-4.2071194528431146, 4.1724504814668189, 7.1310151286359886, 1.0489701860193565]\n"
     ]
    }
   ],
   "source": [
    "age = []\n",
    "fle = []    # future_life_expectancy\n",
    "\n",
    "for l in total_life:\n",
    "    random_age = uniform.rvs(loc = 0, scale= life_limit)\n",
    "    age.append(random_age)\n",
    "\n",
    "    random_fle = (l - random_age)\n",
    "    fle.append(random_fle)\n",
    "    print(l, random_age, fle)"
   ]
  },
  {
   "cell_type": "code",
   "execution_count": 193,
   "metadata": {},
   "outputs": [],
   "source": [
    "Y = fle\n",
    "X = age"
   ]
  },
  {
   "cell_type": "code",
   "execution_count": null,
   "metadata": {},
   "outputs": [],
   "source": []
  },
  {
   "cell_type": "code",
   "execution_count": 194,
   "metadata": {},
   "outputs": [
    {
     "data": {
      "image/png": "[encoded data removed]",
      "text/plain": [
       "<matplotlib.figure.Figure at 0xfee82e8>"
      ]
     },
     "metadata": {},
     "output_type": "display_data"
    }
   ],
   "source": [
    "plt.xlabel('Current Age')\n",
    "plt.ylabel('Future Life')\n",
    "plt.scatter(X, Y)\n",
    "plt.show()"
   ]
  },
  {
   "cell_type": "code",
   "execution_count": null,
   "metadata": {},
   "outputs": [],
   "source": []
  },
  {
   "cell_type": "code",
   "execution_count": null,
   "metadata": {},
   "outputs": [],
   "source": []
  }
 ],
 "metadata": {
  "kernelspec": {
   "display_name": "Python 3",
   "language": "python",
   "name": "python3"
  },
  "language_info": {
   "codemirror_mode": {
    "name": "ipython",
    "version": 3
   },
   "file_extension": ".py",
   "mimetype": "text/x-python",
   "name": "python",
   "nbconvert_exporter": "python",
   "pygments_lexer": "ipython3",
   "version": "3.6.9"
  }
 },
 "nbformat": 4,
 "nbformat_minor": 2
}

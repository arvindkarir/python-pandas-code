{
 "cells": [
  {
   "cell_type": "markdown",
   "metadata": {},
   "source": [
    "https://github.com/luisguiserrano/hmm/blob/master/Simple%20HMM.ipynb\n",
    "s stands for Sunny\n",
    "r stands for Rainy\n",
    "h stands for Happy\n",
    "g stands for Grumpy"
   ]
  },
  {
   "cell_type": "code",
   "execution_count": 60,
   "metadata": {},
   "outputs": [],
   "source": [
    "from numpy import random"
   ]
  },
  {
   "cell_type": "code",
   "execution_count": 61,
   "metadata": {},
   "outputs": [],
   "source": [
    "# Transition Probabilities\n",
    "p_ss = 0.8 #prob of Sunny day after Sunny day\n",
    "p_sr = 0.2 #prob of Rainy day after a Sunny day\n",
    "p_rs = 0.4 #prob of Rainy day after Sunny day\n",
    "p_rr = 0.6 #prob of Rainy day after Rainy day\n",
    "\n",
    "# Initial Probabilities\n",
    "p_s = 2/3 #prob of Sunny day\n",
    "p_r = 1/3 #prob of Rainy day\n",
    "\n",
    "# Emission Probabilities\n",
    "p_sh = 0.8 #prob of being Happy given Sunny\n",
    "p_sg = 0.2 #prob of being Grumpy given Sunny\n",
    "p_rh = 0.4 #prob of being Happy given Rainy\n",
    "p_rg = 0.6 #prob of being Grumpy given Rainy"
   ]
  },
  {
   "cell_type": "code",
   "execution_count": 62,
   "metadata": {},
   "outputs": [
    {
     "data": {
      "text/plain": [
       "['S', 'S', 'S', 'R', 'R', 'S']"
      ]
     },
     "execution_count": 62,
     "metadata": {},
     "output_type": "execute_result"
    }
   ],
   "source": [
    "moods = ['H', 'H', 'G', 'G', 'G', 'H']\n",
    "probabilities = []\n",
    "weather = []\n",
    "\n",
    "if moods[0] == 'H':\n",
    "    probabilities.append((p_s*p_sh, p_r*p_rh))\n",
    "else:\n",
    "    probabilities.append((p_s*p_sg, p_r*p_rg))\n",
    "\n",
    "for i in range(1,len(moods)):\n",
    "    yesterday_sunny, yesterday_rainy = probabilities[-1]\n",
    "    if moods[i] == 'H':\n",
    "        today_sunny = max(yesterday_sunny*p_ss*p_sh, yesterday_rainy*p_rs*p_sh)\n",
    "        today_rainy = max(yesterday_sunny*p_sr*p_rh, yesterday_rainy*p_rr*p_rh)\n",
    "        probabilities.append((today_sunny, today_rainy))\n",
    "    else:\n",
    "        today_sunny = max(yesterday_sunny*p_ss*p_sg, yesterday_rainy*p_rs*p_sg)\n",
    "        today_rainy = max(yesterday_sunny*p_sr*p_rg, yesterday_rainy*p_rr*p_rg)\n",
    "        probabilities.append((today_sunny, today_rainy))\n",
    "\n",
    "for p in probabilities:\n",
    "    if p[0] > p[1]:\n",
    "        weather.append('S')\n",
    "    else:\n",
    "        weather.append('R')\n",
    "        \n",
    "weather"
   ]
  },
  {
   "cell_type": "code",
   "execution_count": 66,
   "metadata": {},
   "outputs": [],
   "source": [
    "#rounding off elements in a tuple\n",
    "rounded_probs = [ ( round ( a [ 0 ], 3 ), round ( a [ 1 ], 3 )) for a in probabilities ]"
   ]
  },
  {
   "cell_type": "code",
   "execution_count": 67,
   "metadata": {},
   "outputs": [
    {
     "data": {
      "text/plain": [
       "[(0.533, 0.133),\n",
       " (0.341, 0.043),\n",
       " (0.055, 0.041),\n",
       " (0.009, 0.015),\n",
       " (0.001, 0.005),\n",
       " (0.002, 0.001)]"
      ]
     },
     "execution_count": 67,
     "metadata": {},
     "output_type": "execute_result"
    }
   ],
   "source": [
    "rounded_probs"
   ]
  },
  {
   "cell_type": "code",
   "execution_count": 65,
   "metadata": {},
   "outputs": [
    {
     "data": {
      "text/plain": [
       "[(0.5333333333333333, 0.13333333333333333),\n",
       " (0.3413333333333334, 0.04266666666666667),\n",
       " (0.05461333333333335, 0.04096000000000001),\n",
       " (0.008738133333333337, 0.014745600000000001),\n",
       " (0.0013981013333333341, 0.005308416),\n",
       " (0.00169869312, 0.00127401984)]"
      ]
     },
     "execution_count": 65,
     "metadata": {},
     "output_type": "execute_result"
    }
   ],
   "source": [
    "probabilities"
   ]
  },
  {
   "cell_type": "code",
   "execution_count": null,
   "metadata": {},
   "outputs": [],
   "source": []
  },
  {
   "cell_type": "code",
   "execution_count": null,
   "metadata": {},
   "outputs": [],
   "source": []
  }
 ],
 "metadata": {
  "kernelspec": {
   "display_name": "Python 3",
   "language": "python",
   "name": "python3"
  },
  "language_info": {
   "codemirror_mode": {
    "name": "ipython",
    "version": 3
   },
   "file_extension": ".py",
   "mimetype": "text/x-python",
   "name": "python",
   "nbconvert_exporter": "python",
   "pygments_lexer": "ipython3",
   "version": "3.6.9"
  }
 },
 "nbformat": 4,
 "nbformat_minor": 2
}

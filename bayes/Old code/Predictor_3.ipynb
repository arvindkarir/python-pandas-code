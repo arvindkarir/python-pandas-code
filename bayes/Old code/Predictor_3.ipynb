{
 "cells": [
  {
   "cell_type": "markdown",
   "metadata": {},
   "source": [
    "https://www.datacamp.com/community/tutorials/naive-bayes-scikit-learn"
   ]
  },
  {
   "cell_type": "code",
   "execution_count": 10,
   "metadata": {},
   "outputs": [],
   "source": [
    "import pandas as pd"
   ]
  },
  {
   "cell_type": "code",
   "execution_count": 11,
   "metadata": {},
   "outputs": [],
   "source": [
    "# for windows using Path\n",
    "from pathlib import Path\n",
    "data_folder = Path(\"C:\\\\Users\\\\User\\\\Dropbox\\\\My python-pandas code\\\\Bayes exercises\")\n",
    "# Note two backslashes for Windows\n",
    "file_to_open = data_folder / \"test2.txt\"\n"
   ]
  },
  {
   "cell_type": "code",
   "execution_count": null,
   "metadata": {},
   "outputs": [],
   "source": [
    "# For Mac\n",
    "file_to_open = \"/Users/arvindkarir/Dropbox/My python-pandas code/Bayes exercises/test2.txt\"\n",
    "# Getting path from Terminal adds '\\' to spaces, needs to be removed"
   ]
  },
  {
   "cell_type": "code",
   "execution_count": 12,
   "metadata": {},
   "outputs": [],
   "source": [
    "f = open(file_to_open)\n",
    "contents = f.read()"
   ]
  },
  {
   "cell_type": "code",
   "execution_count": 13,
   "metadata": {},
   "outputs": [
    {
     "name": "stdout",
     "output_type": "stream",
     "text": [
      "1,2,3\n",
      "Q,a,s\n",
      "C,v,b\n",
      "4,3,5\n"
     ]
    }
   ],
   "source": [
    "print(contents)"
   ]
  },
  {
   "cell_type": "code",
   "execution_count": 54,
   "metadata": {},
   "outputs": [
    {
     "name": "stdout",
     "output_type": "stream",
     "text": [
      "        Date  R  10 y vs. 3 mo.  3 mo.  3 mo. Rate, 1 yr forward\n",
      "0 1967-10-01  0             NaN    NaN                       NaN\n",
      "1 1968-01-01  0             NaN    NaN                       NaN\n",
      "2 1968-04-01  0             NaN    NaN                       NaN\n",
      "3 1968-07-01  0             NaN    NaN                       NaN\n",
      "4 1968-10-01  0             NaN    NaN                       NaN\n"
     ]
    }
   ],
   "source": [
    "# Bring in the file for R\n",
    "xls_file = pd.ExcelFile('R-indicator.xlsx')\n",
    "df = xls_file.parse('Sheet1')\n",
    "print(df[:5])"
   ]
  },
  {
   "cell_type": "code",
   "execution_count": 56,
   "metadata": {},
   "outputs": [
    {
     "name": "stdout",
     "output_type": "stream",
     "text": [
      "year  quarter\n",
      "1967  4          0\n",
      "1968  1          0\n",
      "      2          0\n",
      "      3          0\n",
      "      4          0\n",
      "1969  1          0\n",
      "      2          1\n",
      "      3          1\n",
      "      4          1\n",
      "1970  1          1\n",
      "Name: R, dtype: int64\n"
     ]
    }
   ],
   "source": [
    "df['Date'] = pd.to_datetime(df['Date'])\n",
    "df['quarter'] = df.Date.dt.quarter\n",
    "df['year'] = df.Date.dt.year\n",
    "Recession = df.groupby(['year','quarter'])['R'].mean()\n",
    "print(Recession[:10])"
   ]
  },
  {
   "cell_type": "code",
   "execution_count": 75,
   "metadata": {},
   "outputs": [
    {
     "name": "stdout",
     "output_type": "stream",
     "text": [
      "         Date  10y3mo\n",
      "0  1982-01-04    2.32\n",
      "1  1982-01-05    2.24\n",
      "2  1982-01-06    2.43\n",
      "3  1982-01-07    2.46\n",
      "4  1982-02-01    2.50\n"
     ]
    }
   ],
   "source": [
    "# Bring in the file for 10y3m\n",
    "xls_file = pd.ExcelFile('Data.xlsx')\n",
    "df2 = xls_file.parse('10Y3M-finished')\n",
    "print(df2[:5])"
   ]
  },
  {
   "cell_type": "code",
   "execution_count": 76,
   "metadata": {},
   "outputs": [],
   "source": [
    "df2['Date'] = pd.to_datetime(df2['Date'])\n",
    "df2['quarter'] = df2.Date.dt.quarter"
   ]
  },
  {
   "cell_type": "code",
   "execution_count": 77,
   "metadata": {},
   "outputs": [
    {
     "data": {
      "text/html": [
       "<div>\n",
       "<style scoped>\n",
       "    .dataframe tbody tr th:only-of-type {\n",
       "        vertical-align: middle;\n",
       "    }\n",
       "\n",
       "    .dataframe tbody tr th {\n",
       "        vertical-align: top;\n",
       "    }\n",
       "\n",
       "    .dataframe thead th {\n",
       "        text-align: right;\n",
       "    }\n",
       "</style>\n",
       "<table border=\"1\" class=\"dataframe\">\n",
       "  <thead>\n",
       "    <tr style=\"text-align: right;\">\n",
       "      <th></th>\n",
       "      <th>Date</th>\n",
       "      <th>10y3mo</th>\n",
       "      <th>quarter</th>\n",
       "      <th>year</th>\n",
       "    </tr>\n",
       "  </thead>\n",
       "  <tbody>\n",
       "    <tr>\n",
       "      <th>0</th>\n",
       "      <td>1982-01-04</td>\n",
       "      <td>2.32</td>\n",
       "      <td>1.0</td>\n",
       "      <td>1982.0</td>\n",
       "    </tr>\n",
       "    <tr>\n",
       "      <th>1</th>\n",
       "      <td>1982-01-05</td>\n",
       "      <td>2.24</td>\n",
       "      <td>1.0</td>\n",
       "      <td>1982.0</td>\n",
       "    </tr>\n",
       "    <tr>\n",
       "      <th>2</th>\n",
       "      <td>1982-01-06</td>\n",
       "      <td>2.43</td>\n",
       "      <td>1.0</td>\n",
       "      <td>1982.0</td>\n",
       "    </tr>\n",
       "    <tr>\n",
       "      <th>3</th>\n",
       "      <td>1982-01-07</td>\n",
       "      <td>2.46</td>\n",
       "      <td>1.0</td>\n",
       "      <td>1982.0</td>\n",
       "    </tr>\n",
       "    <tr>\n",
       "      <th>4</th>\n",
       "      <td>1982-02-01</td>\n",
       "      <td>2.50</td>\n",
       "      <td>1.0</td>\n",
       "      <td>1982.0</td>\n",
       "    </tr>\n",
       "  </tbody>\n",
       "</table>\n",
       "</div>"
      ],
      "text/plain": [
       "        Date  10y3mo  quarter    year\n",
       "0 1982-01-04    2.32      1.0  1982.0\n",
       "1 1982-01-05    2.24      1.0  1982.0\n",
       "2 1982-01-06    2.43      1.0  1982.0\n",
       "3 1982-01-07    2.46      1.0  1982.0\n",
       "4 1982-02-01    2.50      1.0  1982.0"
      ]
     },
     "execution_count": 77,
     "metadata": {},
     "output_type": "execute_result"
    }
   ],
   "source": [
    "df2['year'] = df2.Date.dt.year\n",
    "df2[:5]"
   ]
  },
  {
   "cell_type": "code",
   "execution_count": 78,
   "metadata": {},
   "outputs": [
    {
     "name": "stdout",
     "output_type": "stream",
     "text": [
      "year    quarter\n",
      "1982.0  1.0        0.928667\n",
      "        2.0        0.692222\n",
      "        3.0        2.690156\n",
      "        4.0        2.971935\n",
      "1983.0  1.0        2.293871\n",
      "        2.0        1.858571\n",
      "        3.0        1.955938\n",
      "        4.0        2.482623\n",
      "1984.0  1.0        2.429016\n",
      "        2.0        2.796349\n",
      "Name: 10y3mo, dtype: float64\n"
     ]
    }
   ],
   "source": [
    "Yield = df2.groupby(['year', 'quarter'])['10y3mo'].mean()\n",
    "print(Yield[:10])"
   ]
  },
  {
   "cell_type": "code",
   "execution_count": 2,
   "metadata": {},
   "outputs": [],
   "source": [
    "#Import scikit-learn dataset library\n",
    "from sklearn import datasets\n",
    "\n",
    "#Load dataset\n",
    "wine = datasets.load_wine()"
   ]
  },
  {
   "cell_type": "code",
   "execution_count": 7,
   "metadata": {},
   "outputs": [
    {
     "name": "stdout",
     "output_type": "stream",
     "text": [
      "Features:  ['alcohol', 'malic_acid', 'ash', 'alcalinity_of_ash', 'magnesium', 'total_phenols', 'flavanoids', 'nonflavanoid_phenols', 'proanthocyanins', 'color_intensity', 'hue', 'od280/od315_of_diluted_wines', 'proline']\n",
      "Labels:  ['class_0' 'class_1' 'class_2']\n",
      "(178, 13)\n",
      "[[  1.42300000e+01   1.71000000e+00   2.43000000e+00   1.56000000e+01\n",
      "    1.27000000e+02   2.80000000e+00   3.06000000e+00   2.80000000e-01\n",
      "    2.29000000e+00   5.64000000e+00   1.04000000e+00   3.92000000e+00\n",
      "    1.06500000e+03]\n",
      " [  1.32000000e+01   1.78000000e+00   2.14000000e+00   1.12000000e+01\n",
      "    1.00000000e+02   2.65000000e+00   2.76000000e+00   2.60000000e-01\n",
      "    1.28000000e+00   4.38000000e+00   1.05000000e+00   3.40000000e+00\n",
      "    1.05000000e+03]]\n",
      "[0 0 0 0 0 0 0 0 0 0 0 0 0 0 0 0 0 0 0 0 0 0 0 0 0 0 0 0 0 0 0 0 0 0 0 0 0\n",
      " 0 0 0 0 0 0 0 0 0 0 0 0 0 0 0 0 0 0 0 0 0 0 1 1 1 1 1 1 1 1 1 1 1 1 1 1 1\n",
      " 1 1 1 1 1 1 1 1 1 1 1 1 1 1 1 1 1 1 1 1 1 1 1 1 1 1 1 1 1 1 1 1 1 1 1 1 1\n",
      " 1 1 1 1 1 1 1 1 1 1 1 1 1 1 1 1 1 1 1 2 2 2 2 2 2 2 2 2 2 2 2 2 2 2 2 2 2\n",
      " 2 2 2 2 2 2 2 2 2 2 2 2 2 2 2 2 2 2 2 2 2 2 2 2 2 2 2 2 2 2]\n"
     ]
    }
   ],
   "source": [
    "# print the names of the 13 features\n",
    "print(\"Features: \", wine.feature_names)\n",
    "\n",
    "# print the label type of wine(class_0, class_1, class_2)\n",
    "print(\"Labels: \", wine.target_names)\n",
    "print(wine.data.shape)\n",
    "print(wine.data[0:2])\n",
    "print(wine.target)"
   ]
  },
  {
   "cell_type": "code",
   "execution_count": 9,
   "metadata": {},
   "outputs": [],
   "source": [
    "# Import train_test_split function, use model_selection instead of cross_validation\n",
    "from sklearn.model_selection import train_test_split\n",
    "\n",
    "# Split dataset into training set and test set\n",
    "X_train, X_test, y_train, y_test = train_test_split(wine.data, wine.target, \n",
    "                                                    test_size=0.3,random_state=109)\n",
    "# 70% training and 30% test"
   ]
  },
  {
   "cell_type": "code",
   "execution_count": 10,
   "metadata": {},
   "outputs": [],
   "source": [
    "#Import Gaussian Naive Bayes model\n",
    "from sklearn.naive_bayes import GaussianNB\n",
    "\n",
    "#Create a Gaussian Classifier\n",
    "gnb = GaussianNB()\n",
    "\n",
    "#Train the model using the training sets\n",
    "gnb.fit(X_train, y_train)\n",
    "\n",
    "#Predict the response for test dataset\n",
    "y_pred = gnb.predict(X_test)"
   ]
  },
  {
   "cell_type": "code",
   "execution_count": 11,
   "metadata": {},
   "outputs": [
    {
     "name": "stdout",
     "output_type": "stream",
     "text": [
      "Accuracy: 0.907407407407\n"
     ]
    }
   ],
   "source": [
    "#Import scikit-learn metrics module for accuracy calculation\n",
    "from sklearn import metrics\n",
    "\n",
    "# Model Accuracy, how often is the classifier correct?\n",
    "print(\"Accuracy:\",metrics.accuracy_score(y_test, y_pred))"
   ]
  },
  {
   "cell_type": "code",
   "execution_count": null,
   "metadata": {},
   "outputs": [],
   "source": []
  },
  {
   "cell_type": "code",
   "execution_count": null,
   "metadata": {},
   "outputs": [],
   "source": []
  }
 ],
 "metadata": {
  "kernelspec": {
   "display_name": "Python 3",
   "language": "python",
   "name": "python3"
  },
  "language_info": {
   "codemirror_mode": {
    "name": "ipython",
    "version": 3
   },
   "file_extension": ".py",
   "mimetype": "text/x-python",
   "name": "python",
   "nbconvert_exporter": "python",
   "pygments_lexer": "ipython3",
   "version": "3.6.9"
  }
 },
 "nbformat": 4,
 "nbformat_minor": 2
}

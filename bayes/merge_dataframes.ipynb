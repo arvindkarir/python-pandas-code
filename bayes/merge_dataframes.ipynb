{
 "cells": [
  {
   "cell_type": "markdown",
   "metadata": {},
   "source": [
    "https://www.datacamp.com/community/tutorials/naive-bayes-scikit-learn"
   ]
  },
  {
   "cell_type": "code",
   "execution_count": 28,
   "metadata": {},
   "outputs": [],
   "source": [
    "import pandas as pd"
   ]
  },
  {
   "cell_type": "code",
   "execution_count": 29,
   "metadata": {},
   "outputs": [],
   "source": [
    "# for windows using Path\n",
    "from pathlib import Path\n",
    "data_folder = Path(\"C:\\\\Users\\\\User\\\\Dropbox\\\\python-pandas-code\\\\bayes\")\n",
    "# Note two backslashes for Windows"
   ]
  },
  {
   "cell_type": "code",
   "execution_count": 32,
   "metadata": {},
   "outputs": [],
   "source": [
    "# For Mac\n",
    "#file_to_open = \"/Users/arvindkarir/Dropbox/python-pandas-code/bayes/data_bdi.csv\"\n",
    "# Getting path from Terminal adds '\\' to spaces, needs to be removed"
   ]
  },
  {
   "cell_type": "code",
   "execution_count": 33,
   "metadata": {},
   "outputs": [],
   "source": [
    "df = pd.read_csv(data_folder / \"data_bdi.csv\")"
   ]
  },
  {
   "cell_type": "code",
   "execution_count": 34,
   "metadata": {},
   "outputs": [],
   "source": [
    "df['year'] = pd.to_datetime(df.date).dt.year\n",
    "df['qtr'] = pd.to_datetime(df.date).dt.quarter"
   ]
  },
  {
   "cell_type": "code",
   "execution_count": 36,
   "metadata": {},
   "outputs": [],
   "source": [
    "df.to_csv(r'data_bdi_quarterly.csv')\n",
    "# file renamed to data_bdi_fixed.csv after deleting the index and date columns"
   ]
  },
  {
   "cell_type": "code",
   "execution_count": 37,
   "metadata": {},
   "outputs": [],
   "source": [
    "# bring in fed rates file\n",
    "df2 = pd.read_csv(data_folder / \"data_fedrate.csv\")"
   ]
  },
  {
   "cell_type": "code",
   "execution_count": 42,
   "metadata": {},
   "outputs": [],
   "source": [
    "# convert date to year and quarter\n",
    "df2['year'] = pd.to_datetime(df2.date).dt.year\n",
    "df2['qtr'] = pd.to_datetime(df2.date).dt.quarter"
   ]
  },
  {
   "cell_type": "code",
   "execution_count": 43,
   "metadata": {},
   "outputs": [],
   "source": [
    "# need to find the mean rate for each quarter\n",
    "mean_fedrate = df2.groupby(['year', 'qtr'])['fed_rate'].mean()"
   ]
  },
  {
   "cell_type": "code",
   "execution_count": 48,
   "metadata": {},
   "outputs": [],
   "source": [
    "mean_fedrate.to_csv(r'data_fedrate_quarterly.csv')\n",
    "# file renamed to data_fedrate_fixed.csv after deleting the index and date columns, and \n",
    "    # adding legend row"
   ]
  },
  {
   "cell_type": "code",
   "execution_count": 52,
   "metadata": {},
   "outputs": [],
   "source": [
    "# now for 10y3mo file\n",
    "df3 = pd.read_csv(data_folder / \"data_10y3mo.csv\")"
   ]
  },
  {
   "cell_type": "code",
   "execution_count": 53,
   "metadata": {},
   "outputs": [],
   "source": [
    "# convert date to year and quarter\n",
    "df3['year'] = pd.to_datetime(df3.date).dt.year\n",
    "df3['qtr'] = pd.to_datetime(df3.date).dt.quarter"
   ]
  },
  {
   "cell_type": "code",
   "execution_count": 57,
   "metadata": {},
   "outputs": [],
   "source": [
    "# need to find the mean rate for each quarter\n",
    "mean_yield = df3.groupby(['year', 'qtr'])['10y3mo'].mean()"
   ]
  },
  {
   "cell_type": "code",
   "execution_count": 58,
   "metadata": {},
   "outputs": [],
   "source": [
    "mean_yield.to_csv(r'data_yield_quarterly.csv')\n",
    "# file renamed to data_yield_fixed.csv  adding legend row for year, qtr, yield"
   ]
  },
  {
   "cell_type": "markdown",
   "metadata": {},
   "source": [
    "#### Merging all the files"
   ]
  },
  {
   "cell_type": "code",
   "execution_count": 59,
   "metadata": {},
   "outputs": [],
   "source": [
    "df1new = pd.read_csv(data_folder / \"data_bdi_fixed.csv\")\n",
    "df2new = pd.read_csv(data_folder / \"data_fedrate_fixed.csv\")\n",
    "df3new = pd.read_csv(data_folder / \"data_yield_fixed.csv\")"
   ]
  },
  {
   "cell_type": "code",
   "execution_count": 62,
   "metadata": {},
   "outputs": [],
   "source": [
    "merge1 = pd.merge(df1new, df2new, on=['year', 'qtr'], how = \"left\")"
   ]
  },
  {
   "cell_type": "code",
   "execution_count": 63,
   "metadata": {},
   "outputs": [
    {
     "data": {
      "text/html": [
       "<div>\n",
       "<style scoped>\n",
       "    .dataframe tbody tr th:only-of-type {\n",
       "        vertical-align: middle;\n",
       "    }\n",
       "\n",
       "    .dataframe tbody tr th {\n",
       "        vertical-align: top;\n",
       "    }\n",
       "\n",
       "    .dataframe thead th {\n",
       "        text-align: right;\n",
       "    }\n",
       "</style>\n",
       "<table border=\"1\" class=\"dataframe\">\n",
       "  <thead>\n",
       "    <tr style=\"text-align: right;\">\n",
       "      <th></th>\n",
       "      <th>year</th>\n",
       "      <th>qtr</th>\n",
       "      <th>bdi</th>\n",
       "      <th>r</th>\n",
       "      <th>fed_rate</th>\n",
       "    </tr>\n",
       "  </thead>\n",
       "  <tbody>\n",
       "    <tr>\n",
       "      <th>0</th>\n",
       "      <td>1985</td>\n",
       "      <td>1</td>\n",
       "      <td>978</td>\n",
       "      <td>0</td>\n",
       "      <td>8.476667</td>\n",
       "    </tr>\n",
       "    <tr>\n",
       "      <th>1</th>\n",
       "      <td>1985</td>\n",
       "      <td>3</td>\n",
       "      <td>819</td>\n",
       "      <td>0</td>\n",
       "      <td>7.900000</td>\n",
       "    </tr>\n",
       "    <tr>\n",
       "      <th>2</th>\n",
       "      <td>1985</td>\n",
       "      <td>4</td>\n",
       "      <td>820</td>\n",
       "      <td>0</td>\n",
       "      <td>8.103333</td>\n",
       "    </tr>\n",
       "    <tr>\n",
       "      <th>3</th>\n",
       "      <td>1986</td>\n",
       "      <td>2</td>\n",
       "      <td>620</td>\n",
       "      <td>0</td>\n",
       "      <td>6.920000</td>\n",
       "    </tr>\n",
       "    <tr>\n",
       "      <th>4</th>\n",
       "      <td>1986</td>\n",
       "      <td>4</td>\n",
       "      <td>748</td>\n",
       "      <td>0</td>\n",
       "      <td>6.266667</td>\n",
       "    </tr>\n",
       "  </tbody>\n",
       "</table>\n",
       "</div>"
      ],
      "text/plain": [
       "   year  qtr  bdi  r  fed_rate\n",
       "0  1985    1  978  0  8.476667\n",
       "1  1985    3  819  0  7.900000\n",
       "2  1985    4  820  0  8.103333\n",
       "3  1986    2  620  0  6.920000\n",
       "4  1986    4  748  0  6.266667"
      ]
     },
     "execution_count": 63,
     "metadata": {},
     "output_type": "execute_result"
    }
   ],
   "source": [
    "merge1[:5]"
   ]
  },
  {
   "cell_type": "code",
   "execution_count": 64,
   "metadata": {},
   "outputs": [],
   "source": [
    "merge2 = pd.merge(merge1, df3new, on=['year', 'qtr'], how = \"left\")"
   ]
  },
  {
   "cell_type": "code",
   "execution_count": 65,
   "metadata": {},
   "outputs": [
    {
     "data": {
      "text/html": [
       "<div>\n",
       "<style scoped>\n",
       "    .dataframe tbody tr th:only-of-type {\n",
       "        vertical-align: middle;\n",
       "    }\n",
       "\n",
       "    .dataframe tbody tr th {\n",
       "        vertical-align: top;\n",
       "    }\n",
       "\n",
       "    .dataframe thead th {\n",
       "        text-align: right;\n",
       "    }\n",
       "</style>\n",
       "<table border=\"1\" class=\"dataframe\">\n",
       "  <thead>\n",
       "    <tr style=\"text-align: right;\">\n",
       "      <th></th>\n",
       "      <th>year</th>\n",
       "      <th>qtr</th>\n",
       "      <th>bdi</th>\n",
       "      <th>r</th>\n",
       "      <th>fed_rate</th>\n",
       "      <th>yield</th>\n",
       "    </tr>\n",
       "  </thead>\n",
       "  <tbody>\n",
       "    <tr>\n",
       "      <th>0</th>\n",
       "      <td>1985</td>\n",
       "      <td>1</td>\n",
       "      <td>978</td>\n",
       "      <td>0</td>\n",
       "      <td>8.476667</td>\n",
       "      <td>3.080984</td>\n",
       "    </tr>\n",
       "    <tr>\n",
       "      <th>1</th>\n",
       "      <td>1985</td>\n",
       "      <td>3</td>\n",
       "      <td>819</td>\n",
       "      <td>0</td>\n",
       "      <td>7.900000</td>\n",
       "      <td>3.025323</td>\n",
       "    </tr>\n",
       "    <tr>\n",
       "      <th>2</th>\n",
       "      <td>1985</td>\n",
       "      <td>4</td>\n",
       "      <td>820</td>\n",
       "      <td>0</td>\n",
       "      <td>8.103333</td>\n",
       "      <td>2.760635</td>\n",
       "    </tr>\n",
       "    <tr>\n",
       "      <th>3</th>\n",
       "      <td>1986</td>\n",
       "      <td>2</td>\n",
       "      <td>620</td>\n",
       "      <td>0</td>\n",
       "      <td>6.920000</td>\n",
       "      <td>1.368197</td>\n",
       "    </tr>\n",
       "    <tr>\n",
       "      <th>4</th>\n",
       "      <td>1986</td>\n",
       "      <td>4</td>\n",
       "      <td>748</td>\n",
       "      <td>0</td>\n",
       "      <td>6.266667</td>\n",
       "      <td>1.780469</td>\n",
       "    </tr>\n",
       "  </tbody>\n",
       "</table>\n",
       "</div>"
      ],
      "text/plain": [
       "   year  qtr  bdi  r  fed_rate     yield\n",
       "0  1985    1  978  0  8.476667  3.080984\n",
       "1  1985    3  819  0  7.900000  3.025323\n",
       "2  1985    4  820  0  8.103333  2.760635\n",
       "3  1986    2  620  0  6.920000  1.368197\n",
       "4  1986    4  748  0  6.266667  1.780469"
      ]
     },
     "execution_count": 65,
     "metadata": {},
     "output_type": "execute_result"
    }
   ],
   "source": [
    "merge2[:5]"
   ]
  },
  {
   "cell_type": "code",
   "execution_count": 66,
   "metadata": {},
   "outputs": [],
   "source": [
    "merge2.to_csv(r'data_all_quarterly.csv')\n",
    "# deleted index column and header row, moved order of columns around ---> year, qtr, fed_rate\n",
    "    # yield, bdi, r; and renamed data_all_fixed.csv"
   ]
  },
  {
   "cell_type": "code",
   "execution_count": null,
   "metadata": {},
   "outputs": [],
   "source": []
  },
  {
   "cell_type": "code",
   "execution_count": null,
   "metadata": {},
   "outputs": [],
   "source": []
  }
 ],
 "metadata": {
  "kernelspec": {
   "display_name": "Python 3",
   "language": "python",
   "name": "python3"
  },
  "language_info": {
   "codemirror_mode": {
    "name": "ipython",
    "version": 3
   },
   "file_extension": ".py",
   "mimetype": "text/x-python",
   "name": "python",
   "nbconvert_exporter": "python",
   "pygments_lexer": "ipython3",
   "version": "3.6.9"
  }
 },
 "nbformat": 4,
 "nbformat_minor": 2
}
